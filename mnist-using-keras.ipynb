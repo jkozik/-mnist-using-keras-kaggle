{
 "cells": [
  {
   "cell_type": "code",
   "execution_count": 1,
   "id": "divine-ethnic",
   "metadata": {
    "execution": {
     "iopub.execute_input": "2021-04-29T04:16:20.126529Z",
     "iopub.status.busy": "2021-04-29T04:16:20.125638Z",
     "iopub.status.idle": "2021-04-29T04:16:20.129480Z",
     "shell.execute_reply": "2021-04-29T04:16:20.128767Z"
    },
    "id": "NuQAT9c8oZHc",
    "papermill": {
     "duration": 0.060789,
     "end_time": "2021-04-29T04:16:20.129626",
     "exception": false,
     "start_time": "2021-04-29T04:16:20.068837",
     "status": "completed"
    },
    "tags": []
   },
   "outputs": [],
   "source": [
    "%matplotlib inline"
   ]
  },
  {
   "cell_type": "markdown",
   "id": "balanced-nature",
   "metadata": {
    "id": "zadEAw-joZHj",
    "papermill": {
     "duration": 0.043351,
     "end_time": "2021-04-29T04:16:20.218697",
     "exception": false,
     "start_time": "2021-04-29T04:16:20.175346",
     "status": "completed"
    },
    "tags": []
   },
   "source": [
    "To help you understand the fundamentals of deep learning, this demo will walk through the basic steps of building two toy models for classifying handwritten numbers with accuracies surpassing 95%. The first model will be a basic fully-connected neural network, and the second model will be a deeper network that introduces the concepts of convolution and pooling."
   ]
  },
  {
   "cell_type": "markdown",
   "id": "respected-olive",
   "metadata": {
    "id": "tcsb5_QgoZHj",
    "papermill": {
     "duration": 0.044603,
     "end_time": "2021-04-29T04:16:20.308581",
     "exception": false,
     "start_time": "2021-04-29T04:16:20.263978",
     "status": "completed"
    },
    "tags": []
   },
   "source": [
    "## The Task for the AI\n",
    "\n",
    "Our goal is to construct and train an artificial neural network on thousands of images of handwritten digits so that it may successfully identify others when presented. The data that will be incorporated is the MNIST database which contains 60,000 images for training and 10,000 test images. We will use the Keras Python API with TensorFlow as the backend."
   ]
  },
  {
   "cell_type": "markdown",
   "id": "approximate-notification",
   "metadata": {
    "id": "OGQo9NP5oZHj",
    "papermill": {
     "duration": 0.044163,
     "end_time": "2021-04-29T04:16:20.396385",
     "exception": false,
     "start_time": "2021-04-29T04:16:20.352222",
     "status": "completed"
    },
    "tags": []
   },
   "source": [
    "<img src=\"https://github.com/AviatorMoser/keras-mnist-tutorial/blob/master/mnist.png?raw=1\" >"
   ]
  },
  {
   "cell_type": "markdown",
   "id": "detected-mobility",
   "metadata": {
    "id": "n9P7bHMhoZHk",
    "papermill": {
     "duration": 0.044005,
     "end_time": "2021-04-29T04:16:20.484251",
     "exception": false,
     "start_time": "2021-04-29T04:16:20.440246",
     "status": "completed"
    },
    "tags": []
   },
   "source": [
    "## Prerequisite Python Modules\n",
    "\n",
    "First, some software needs to be loaded into the Python environment."
   ]
  },
  {
   "cell_type": "code",
   "execution_count": 2,
   "id": "announced-appointment",
   "metadata": {
    "execution": {
     "iopub.execute_input": "2021-04-29T04:16:20.581164Z",
     "iopub.status.busy": "2021-04-29T04:16:20.580341Z",
     "iopub.status.idle": "2021-04-29T04:16:26.764003Z",
     "shell.execute_reply": "2021-04-29T04:16:26.762891Z"
    },
    "id": "cu4tLK7_oZHk",
    "papermill": {
     "duration": 6.234118,
     "end_time": "2021-04-29T04:16:26.764155",
     "exception": false,
     "start_time": "2021-04-29T04:16:20.530037",
     "status": "completed"
    },
    "tags": []
   },
   "outputs": [],
   "source": [
    "import numpy as np                   # advanced math library\n",
    "import matplotlib.pyplot as plt      # MATLAB like plotting routines\n",
    "import random                        # for generating random numbers\n",
    "\n",
    "from keras.datasets import mnist     # MNIST dataset is included in Keras\n",
    "from keras.models import Sequential  # Model type to be used\n",
    "\n",
    "from keras.layers.core import Dense, Dropout, Activation # Types of layers to be used in our model\n",
    "from keras.utils import np_utils                         # NumPy related tools"
   ]
  },
  {
   "cell_type": "markdown",
   "id": "romantic-reynolds",
   "metadata": {
    "id": "8GgmaGrAoZHk",
    "papermill": {
     "duration": 0.0447,
     "end_time": "2021-04-29T04:16:26.854263",
     "exception": false,
     "start_time": "2021-04-29T04:16:26.809563",
     "status": "completed"
    },
    "tags": []
   },
   "source": [
    "## Loading Training Data\n",
    "\n",
    "The MNIST dataset is conveniently bundled within Keras, and we can easily analyze some of its features in Python."
   ]
  },
  {
   "cell_type": "code",
   "execution_count": 3,
   "id": "understood-license",
   "metadata": {
    "execution": {
     "iopub.execute_input": "2021-04-29T04:16:26.952418Z",
     "iopub.status.busy": "2021-04-29T04:16:26.951691Z",
     "iopub.status.idle": "2021-04-29T04:16:27.810711Z",
     "shell.execute_reply": "2021-04-29T04:16:27.811580Z"
    },
    "id": "zFpZXgt0oZHk",
    "papermill": {
     "duration": 0.913348,
     "end_time": "2021-04-29T04:16:27.811908",
     "exception": false,
     "start_time": "2021-04-29T04:16:26.898560",
     "status": "completed"
    },
    "tags": []
   },
   "outputs": [
    {
     "name": "stdout",
     "output_type": "stream",
     "text": [
      "Downloading data from https://storage.googleapis.com/tensorflow/tf-keras-datasets/mnist.npz\n",
      "11493376/11490434 [==============================] - 0s 0us/step\n",
      "X_train shape (60000, 28, 28)\n",
      "y_train shape (60000,)\n",
      "X_test shape (10000, 28, 28)\n",
      "y_test shape (10000,)\n"
     ]
    }
   ],
   "source": [
    "# The MNIST data is split between 60,000 28 x 28 pixel training images and 10,000 28 x 28 pixel images\n",
    "(X_train, y_train), (X_test, y_test) = mnist.load_data()\n",
    "\n",
    "print(\"X_train shape\", X_train.shape)\n",
    "print(\"y_train shape\", y_train.shape)\n",
    "print(\"X_test shape\", X_test.shape)\n",
    "print(\"y_test shape\", y_test.shape)"
   ]
  },
  {
   "cell_type": "markdown",
   "id": "tough-employee",
   "metadata": {
    "id": "9PTB-ydQoZHl",
    "papermill": {
     "duration": 0.048025,
     "end_time": "2021-04-29T04:16:27.909132",
     "exception": false,
     "start_time": "2021-04-29T04:16:27.861107",
     "status": "completed"
    },
    "tags": []
   },
   "source": [
    "Using matplotlib, we can plot some sample images from the training set directly \n",
    "\n",
    "*   List item\n",
    "*   List item\n",
    "\n",
    "into this Jupyter Notebook."
   ]
  },
  {
   "cell_type": "code",
   "execution_count": 4,
   "id": "whole-accessory",
   "metadata": {
    "execution": {
     "iopub.execute_input": "2021-04-29T04:16:28.031535Z",
     "iopub.status.busy": "2021-04-29T04:16:28.030838Z",
     "iopub.status.idle": "2021-04-29T04:16:29.867093Z",
     "shell.execute_reply": "2021-04-29T04:16:29.867765Z"
    },
    "id": "u-3apo9ZoZHl",
    "papermill": {
     "duration": 1.910169,
     "end_time": "2021-04-29T04:16:29.868014",
     "exception": false,
     "start_time": "2021-04-29T04:16:27.957845",
     "status": "completed"
    },
    "tags": []
   },
   "outputs": [
    {
     "data": {
      "image/png": "[encoded data removed]",
      "text/plain": [
       "<Figure size 648x648 with 9 Axes>"
      ]
     },
     "metadata": {
      "needs_background": "light"
     },
     "output_type": "display_data"
    }
   ],
   "source": [
    "plt.rcParams['figure.figsize'] = (9,9) # Make the figures a bit bigger\n",
    "\n",
    "for i in range(9):\n",
    "    plt.subplot(3,3,i+1)\n",
    "    num = random.randint(0, len(X_train))\n",
    "    plt.imshow(X_train[num], cmap='gray', interpolation='none')\n",
    "    plt.title(\"Class {}\".format(y_train[num]))\n",
    "    \n",
    "plt.tight_layout()"
   ]
  },
  {
   "cell_type": "markdown",
   "id": "suited-estimate",
   "metadata": {
    "id": "eeA69TtpoZHm",
    "papermill": {
     "duration": 0.052698,
     "end_time": "2021-04-29T04:16:29.971937",
     "exception": false,
     "start_time": "2021-04-29T04:16:29.919239",
     "status": "completed"
    },
    "tags": []
   },
   "source": [
    "*Let*'s examine a single digit a little closer, and print out the array representing the last digit."
   ]
  },
  {
   "cell_type": "code",
   "execution_count": 5,
   "id": "fifteen-irrigation",
   "metadata": {
    "execution": {
     "iopub.execute_input": "2021-04-29T04:16:30.091938Z",
     "iopub.status.busy": "2021-04-29T04:16:30.089070Z",
     "iopub.status.idle": "2021-04-29T04:16:30.146533Z",
     "shell.execute_reply": "2021-04-29T04:16:30.145464Z"
    },
    "id": "oQyRcx7_oZHm",
    "papermill": {
     "duration": 0.124107,
     "end_time": "2021-04-29T04:16:30.146776",
     "exception": false,
     "start_time": "2021-04-29T04:16:30.022669",
     "status": "completed"
    },
    "tags": []
   },
   "outputs": [
    {
     "name": "stdout",
     "output_type": "stream",
     "text": [
      "0  0  0  0  0  0  0  0   0    0    0    0    0    0    0    0    0    0    0    0    0  0  0  0  0  0  0  0  \n",
      "0  0  0  0  0  0  0  0   0    0    0    0    0    0    0    0    0    0    0    0    0  0  0  0  0  0  0  0  \n",
      "0  0  0  0  0  0  0  0   0    0    0    0    0    0    0    0    0    0    0    0    0  0  0  0  0  0  0  0  \n",
      "0  0  0  0  0  0  0  0   0    0    0    0    0    0    0    0    0    0    0    0    0  0  0  0  0  0  0  0  \n",
      "0  0  0  0  0  0  0  0   0    0    0   41  239  121  121   64    0    0    0    0    0  0  0  0  0  0  0  0  \n",
      "0  0  0  0  0  0  0  0   0    0   51  242  252  252  252  247  138    0    0    0    0  0  0  0  0  0  0  0  \n",
      "0  0  0  0  0  0  0  0   0    0   54  252  252  252  252  253  185   10    0    0    0  0  0  0  0  0  0  0  \n",
      "0  0  0  0  0  0  0  0   0    0   37  227  252  252  252  253  252  138    0    0    0  0  0  0  0  0  0  0  \n",
      "0  0  0  0  0  0  0  0   0    0    0  173  252  252  252  253  252  233   31    0    0  0  0  0  0  0  0  0  \n",
      "0  0  0  0  0  0  0  0   0    0   12  190  252  214   66  253  252  252   39    0    0  0  0  0  0  0  0  0  \n",
      "0  0  0  0  0  0  0  0   0    0   75  252  252  106    0  253  252  252   39    0    0  0  0  0  0  0  0  0  \n",
      "0  0  0  0  0  0  0  0   0    0  186  252  252  107   27  253  252  252   53    0    0  0  0  0  0  0  0  0  \n",
      "0  0  0  0  0  0  0  0   0   46  224  252  252  196  252  253  252  252  218  109    0  0  0  0  0  0  0  0  \n",
      "0  0  0  0  0  0  0  0   0  200  252  252  252  252  252  253  252  252  252  115    0  0  0  0  0  0  0  0  \n",
      "0  0  0  0  0  0  0  0  81  253  253  253  253  253  253  255  253  253  173    0    0  0  0  0  0  0  0  0  \n",
      "0  0  0  0  0  0  0  0   4  118  224  252  252  252  252  146  190  252  248  107    0  0  0  0  0  0  0  0  \n",
      "0  0  0  0  0  0  0  0   0    0  186  252  252  190   26    0   68  242  252  185    0  0  0  0  0  0  0  0  \n",
      "0  0  0  0  0  0  0  0   0    0  186  252  243   72    0    0    0  184  252  206   21  0  0  0  0  0  0  0  \n",
      "0  0  0  0  0  0  0  0   0    0  186  252  225    0    0    0    0   94  252  252  101  0  0  0  0  0  0  0  \n",
      "0  0  0  0  0  0  0  0   0    0  186  252  245   79    0    0    0   25  223  252  198  0  0  0  0  0  0  0  \n",
      "0  0  0  0  0  0  0  0   0    0   87  239  252  199   41    0    0   65  240  252  177  0  0  0  0  0  0  0  \n",
      "0  0  0  0  0  0  0  0   0    0    0  159  252  252  252   27   27  180  252  245   59  0  0  0  0  0  0  0  \n",
      "0  0  0  0  0  0  0  0   0    0    0   17  120  239  252  253  252  252  252  178    0  0  0  0  0  0  0  0  \n",
      "0  0  0  0  0  0  0  0   0    0    0    0    0    7  119  253  252  252  139   25    0  0  0  0  0  0  0  0  \n",
      "0  0  0  0  0  0  0  0   0    0    0    0    0    0    0    0    0    0    0    0    0  0  0  0  0  0  0  0  \n",
      "0  0  0  0  0  0  0  0   0    0    0    0    0    0    0    0    0    0    0    0    0  0  0  0  0  0  0  0  \n",
      "0  0  0  0  0  0  0  0   0    0    0    0    0    0    0    0    0    0    0    0    0  0  0  0  0  0  0  0  \n",
      "0  0  0  0  0  0  0  0   0    0    0    0    0    0    0    0    0    0    0    0    0  0  0  0  0  0  0  0  \n"
     ]
    }
   ],
   "source": [
    "# just a little function for pretty printing a matrix\n",
    "def matprint(mat, fmt=\"g\"):\n",
    "    col_maxes = [max([len((\"{:\"+fmt+\"}\").format(x)) for x in col]) for col in mat.T]\n",
    "    for x in mat:\n",
    "        for i, y in enumerate(x):\n",
    "            print((\"{:\"+str(col_maxes[i])+fmt+\"}\").format(y), end=\"  \")\n",
    "        print(\"\")\n",
    "\n",
    "# now print!        \n",
    "matprint(X_train[num])"
   ]
  },
  {
   "cell_type": "markdown",
   "id": "lesbian-controversy",
   "metadata": {
    "id": "arkOAohhoZHm",
    "papermill": {
     "duration": 0.093959,
     "end_time": "2021-04-29T04:16:30.344299",
     "exception": false,
     "start_time": "2021-04-29T04:16:30.250340",
     "status": "completed"
    },
    "tags": []
   },
   "source": [
    "Each pixel is an 8-bit integer from 0-255. 0 is full black, while 255 is full white. This what we call a single-channel pixel. It's called monochrome.\n",
    "\n",
    "*Fun-fact! Your computer screen has three channels for each pixel: red, green, blue. Each of these channels also likely takes an 8-bit integer. 3 channels -- 24 bits total -- 16,777,216 possible colors!*"
   ]
  },
  {
   "cell_type": "markdown",
   "id": "behavioral-sight",
   "metadata": {
    "id": "bep1jiapoZHm",
    "papermill": {
     "duration": 0.056302,
     "end_time": "2021-04-29T04:16:30.458115",
     "exception": false,
     "start_time": "2021-04-29T04:16:30.401813",
     "status": "completed"
    },
    "tags": []
   },
   "source": [
    "## Formatting the input data layer\n",
    "\n",
    "Instead of a 28 x 28 matrix, we build our network to accept a 784-length vector.\n",
    "\n",
    "Each image needs to be then reshaped (or flattened) into a vector. We'll also normalize the inputs to be in the range [0-1] rather than [0-255]. Normalizing inputs is generally recommended, so that any additional dimensions (for other network architectures) are of the same scale."
   ]
  },
  {
   "cell_type": "markdown",
   "id": "processed-mouse",
   "metadata": {
    "id": "kDdQaW98oZHn",
    "papermill": {
     "duration": 0.051875,
     "end_time": "2021-04-29T04:16:30.562750",
     "exception": false,
     "start_time": "2021-04-29T04:16:30.510875",
     "status": "completed"
    },
    "tags": []
   },
   "source": [
    "<img src='https://github.com/AviatorMoser/keras-mnist-tutorial/blob/master/flatten.png?raw=1' >"
   ]
  },
  {
   "cell_type": "code",
   "execution_count": 6,
   "id": "arabic-finding",
   "metadata": {
    "execution": {
     "iopub.execute_input": "2021-04-29T04:16:30.677107Z",
     "iopub.status.busy": "2021-04-29T04:16:30.675807Z",
     "iopub.status.idle": "2021-04-29T04:16:30.778300Z",
     "shell.execute_reply": "2021-04-29T04:16:30.778890Z"
    },
    "id": "yhPc02D2oZHn",
    "papermill": {
     "duration": 0.162999,
     "end_time": "2021-04-29T04:16:30.779078",
     "exception": false,
     "start_time": "2021-04-29T04:16:30.616079",
     "status": "completed"
    },
    "tags": []
   },
   "outputs": [
    {
     "name": "stdout",
     "output_type": "stream",
     "text": [
      "Training matrix shape (60000, 784)\n",
      "Testing matrix shape (10000, 784)\n"
     ]
    }
   ],
   "source": [
    "X_train = X_train.reshape(60000, 784) # reshape 60,000 28 x 28 matrices into 60,000 784-length vectors.\n",
    "X_test = X_test.reshape(10000, 784)   # reshape 10,000 28 x 28 matrices into 10,000 784-length vectors.\n",
    "\n",
    "X_train = X_train.astype('float32')   # change integers to 32-bit floating point numbers\n",
    "X_test = X_test.astype('float32')\n",
    "\n",
    "X_train /= 255                        # normalize each value for each pixel for the entire vector for each input\n",
    "X_test /= 255\n",
    "\n",
    "print(\"Training matrix shape\", X_train.shape)\n",
    "print(\"Testing matrix shape\", X_test.shape)"
   ]
  },
  {
   "cell_type": "markdown",
   "id": "celtic-swift",
   "metadata": {
    "id": "yHsVYXQNoZHn",
    "papermill": {
     "duration": 0.057139,
     "end_time": "2021-04-29T04:16:30.892633",
     "exception": false,
     "start_time": "2021-04-29T04:16:30.835494",
     "status": "completed"
    },
    "tags": []
   },
   "source": [
    "We then modify our classes (unique digits) to be in the one-hot format, i.e.\n",
    "\n",
    "```\n",
    "0 -> [1, 0, 0, 0, 0, 0, 0, 0, 0]\n",
    "1 -> [0, 1, 0, 0, 0, 0, 0, 0, 0]\n",
    "2 -> [0, 0, 1, 0, 0, 0, 0, 0, 0]\n",
    "etc.\n",
    "```\n",
    "\n",
    "If the final output of our network is very close to one of these classes, then it is most likely that class. For example, if the final output is:\n",
    "\n",
    "```\n",
    "[0, 0.94, 0, 0, 0, 0, 0.06, 0, 0]\n",
    "```\n",
    "then it is most probable that the image is that of the digit `1`."
   ]
  },
  {
   "cell_type": "code",
   "execution_count": 7,
   "id": "furnished-corps",
   "metadata": {
    "execution": {
     "iopub.execute_input": "2021-04-29T04:16:31.005091Z",
     "iopub.status.busy": "2021-04-29T04:16:31.003355Z",
     "iopub.status.idle": "2021-04-29T04:16:31.007993Z",
     "shell.execute_reply": "2021-04-29T04:16:31.008568Z"
    },
    "id": "hhDIpi94oZHn",
    "papermill": {
     "duration": 0.062302,
     "end_time": "2021-04-29T04:16:31.008736",
     "exception": false,
     "start_time": "2021-04-29T04:16:30.946434",
     "status": "completed"
    },
    "tags": []
   },
   "outputs": [],
   "source": [
    "nb_classes = 10 # number of unique digits\n",
    "\n",
    "Y_train = np_utils.to_categorical(y_train, nb_classes)\n",
    "Y_test = np_utils.to_categorical(y_test, nb_classes)"
   ]
  },
  {
   "cell_type": "markdown",
   "id": "bearing-investment",
   "metadata": {
    "id": "8zW9NLd_oZHo",
    "papermill": {
     "duration": 0.054402,
     "end_time": "2021-04-29T04:16:31.118289",
     "exception": false,
     "start_time": "2021-04-29T04:16:31.063887",
     "status": "completed"
    },
    "tags": []
   },
   "source": [
    "# Building a 3-layer fully connected network (FCN)\n",
    "\n",
    "<img src=\"https://github.com/AviatorMoser/keras-mnist-tutorial/blob/master/figure.png?raw=1\" />"
   ]
  },
  {
   "cell_type": "code",
   "execution_count": 8,
   "id": "ideal-summit",
   "metadata": {
    "execution": {
     "iopub.execute_input": "2021-04-29T04:16:31.233354Z",
     "iopub.status.busy": "2021-04-29T04:16:31.232447Z",
     "iopub.status.idle": "2021-04-29T04:16:34.485845Z",
     "shell.execute_reply": "2021-04-29T04:16:34.485266Z"
    },
    "id": "XD_qPZGSoZHo",
    "papermill": {
     "duration": 3.313588,
     "end_time": "2021-04-29T04:16:34.485993",
     "exception": false,
     "start_time": "2021-04-29T04:16:31.172405",
     "status": "completed"
    },
    "tags": []
   },
   "outputs": [],
   "source": [
    "# The Sequential model is a linear stack of layers and is very common.\n",
    "\n",
    "model = Sequential()"
   ]
  },
  {
   "cell_type": "markdown",
   "id": "governmental-script",
   "metadata": {
    "id": "KOnwvyFooZHo",
    "papermill": {
     "duration": 0.048851,
     "end_time": "2021-04-29T04:16:34.586004",
     "exception": false,
     "start_time": "2021-04-29T04:16:34.537153",
     "status": "completed"
    },
    "tags": []
   },
   "source": [
    "## The first hidden layer"
   ]
  },
  {
   "cell_type": "code",
   "execution_count": 9,
   "id": "talented-concert",
   "metadata": {
    "execution": {
     "iopub.execute_input": "2021-04-29T04:16:34.786673Z",
     "iopub.status.busy": "2021-04-29T04:16:34.785599Z",
     "iopub.status.idle": "2021-04-29T04:16:34.844343Z",
     "shell.execute_reply": "2021-04-29T04:16:34.845562Z"
    },
    "id": "NgLW1-xRoZHo",
    "papermill": {
     "duration": 0.175465,
     "end_time": "2021-04-29T04:16:34.845819",
     "exception": false,
     "start_time": "2021-04-29T04:16:34.670354",
     "status": "completed"
    },
    "tags": []
   },
   "outputs": [],
   "source": [
    "# The first hidden layer is a set of 512 nodes (artificial neurons).\n",
    "# Each node will receive an element from each input vector and apply some weight and bias to it.\n",
    "\n",
    "model.add(Dense(512, input_shape=(784,))) #(784,) is not a typo -- that represents a 784 length vector!"
   ]
  },
  {
   "cell_type": "code",
   "execution_count": 10,
   "id": "insured-madonna",
   "metadata": {
    "execution": {
     "iopub.execute_input": "2021-04-29T04:16:35.029017Z",
     "iopub.status.busy": "2021-04-29T04:16:35.027944Z",
     "iopub.status.idle": "2021-04-29T04:16:35.035760Z",
     "shell.execute_reply": "2021-04-29T04:16:35.037030Z"
    },
    "id": "FTvKsR5DoZHo",
    "papermill": {
     "duration": 0.10228,
     "end_time": "2021-04-29T04:16:35.037249",
     "exception": false,
     "start_time": "2021-04-29T04:16:34.934969",
     "status": "completed"
    },
    "tags": []
   },
   "outputs": [],
   "source": [
    "# An \"activation\" is a non-linear function applied to the output of the layer above.\n",
    "# It checks the new value of the node, and decides whether that artifical neuron has fired.\n",
    "# The Rectified Linear Unit (ReLU) converts all negative inputs to nodes in the next layer to be zero.\n",
    "# Those inputs are then not considered to be fired.\n",
    "# Positive values of a node are unchanged.\n",
    "\n",
    "model.add(Activation('relu'))"
   ]
  },
  {
   "cell_type": "markdown",
   "id": "equivalent-elder",
   "metadata": {
    "id": "blSAm7FAoZHp",
    "papermill": {
     "duration": 0.089797,
     "end_time": "2021-04-29T04:16:35.216009",
     "exception": false,
     "start_time": "2021-04-29T04:16:35.126212",
     "status": "completed"
    },
    "tags": []
   },
   "source": [
    "$$f(x) = max (0,x)$$\n",
    "<img src = 'relu.jpg' >"
   ]
  },
  {
   "cell_type": "code",
   "execution_count": 11,
   "id": "golden-wyoming",
   "metadata": {
    "execution": {
     "iopub.execute_input": "2021-04-29T04:16:35.337050Z",
     "iopub.status.busy": "2021-04-29T04:16:35.336028Z",
     "iopub.status.idle": "2021-04-29T04:16:35.342439Z",
     "shell.execute_reply": "2021-04-29T04:16:35.343133Z"
    },
    "id": "ZhfaHEsZoZHp",
    "papermill": {
     "duration": 0.06516,
     "end_time": "2021-04-29T04:16:35.343287",
     "exception": false,
     "start_time": "2021-04-29T04:16:35.278127",
     "status": "completed"
    },
    "tags": []
   },
   "outputs": [],
   "source": [
    "# Dropout zeroes a selection of random outputs (i.e., disables their activation)\n",
    "# Dropout helps protect the model from memorizing or \"overfitting\" the training data.\n",
    "model.add(Dropout(0.2))"
   ]
  },
  {
   "cell_type": "markdown",
   "id": "smart-graduate",
   "metadata": {
    "id": "sLgbX-08oZHp",
    "papermill": {
     "duration": 0.051315,
     "end_time": "2021-04-29T04:16:35.446329",
     "exception": false,
     "start_time": "2021-04-29T04:16:35.395014",
     "status": "completed"
    },
    "tags": []
   },
   "source": [
    "## Adding the second hidden layer"
   ]
  },
  {
   "cell_type": "code",
   "execution_count": 12,
   "id": "specialized-capitol",
   "metadata": {
    "execution": {
     "iopub.execute_input": "2021-04-29T04:16:35.555768Z",
     "iopub.status.busy": "2021-04-29T04:16:35.554083Z",
     "iopub.status.idle": "2021-04-29T04:16:35.571837Z",
     "shell.execute_reply": "2021-04-29T04:16:35.571184Z"
    },
    "id": "LRjUDBXmoZHp",
    "papermill": {
     "duration": 0.074491,
     "end_time": "2021-04-29T04:16:35.571981",
     "exception": false,
     "start_time": "2021-04-29T04:16:35.497490",
     "status": "completed"
    },
    "tags": []
   },
   "outputs": [],
   "source": [
    "# The second hidden layer appears identical to our first layer.\n",
    "# However, instead of each of the 512-node receiving 784-inputs from the input image data,\n",
    "# they receive 512 inputs from the output of the first 512-node layer.\n",
    "\n",
    "model.add(Dense(512))\n",
    "model.add(Activation('relu'))\n",
    "model.add(Dropout(0.2))"
   ]
  },
  {
   "cell_type": "markdown",
   "id": "fifth-custom",
   "metadata": {
    "id": "oqlESEJroZHp",
    "papermill": {
     "duration": 0.050916,
     "end_time": "2021-04-29T04:16:35.676459",
     "exception": false,
     "start_time": "2021-04-29T04:16:35.625543",
     "status": "completed"
    },
    "tags": []
   },
   "source": [
    "## The Final Output Layer"
   ]
  },
  {
   "cell_type": "code",
   "execution_count": 13,
   "id": "drawn-chair",
   "metadata": {
    "execution": {
     "iopub.execute_input": "2021-04-29T04:16:35.789294Z",
     "iopub.status.busy": "2021-04-29T04:16:35.787716Z",
     "iopub.status.idle": "2021-04-29T04:16:35.798723Z",
     "shell.execute_reply": "2021-04-29T04:16:35.799229Z"
    },
    "id": "CxsHb1uHoZHq",
    "papermill": {
     "duration": 0.069605,
     "end_time": "2021-04-29T04:16:35.799410",
     "exception": false,
     "start_time": "2021-04-29T04:16:35.729805",
     "status": "completed"
    },
    "tags": []
   },
   "outputs": [],
   "source": [
    "# The final layer of 10 neurons in fully-connected to the previous 512-node layer.\n",
    "# The final layer of a FCN should be equal to the number of desired classes (10 in this case).\n",
    "model.add(Dense(10))"
   ]
  },
  {
   "cell_type": "code",
   "execution_count": 14,
   "id": "neutral-ready",
   "metadata": {
    "execution": {
     "iopub.execute_input": "2021-04-29T04:16:35.910515Z",
     "iopub.status.busy": "2021-04-29T04:16:35.909270Z",
     "iopub.status.idle": "2021-04-29T04:16:35.915993Z",
     "shell.execute_reply": "2021-04-29T04:16:35.915397Z"
    },
    "id": "xGqNVhpVoZHq",
    "papermill": {
     "duration": 0.065743,
     "end_time": "2021-04-29T04:16:35.916184",
     "exception": false,
     "start_time": "2021-04-29T04:16:35.850441",
     "status": "completed"
    },
    "tags": []
   },
   "outputs": [],
   "source": [
    "# The \"softmax\" activation represents a probability distribution over K different possible outcomes.\n",
    "# Its values are all non-negative and sum to 1.\n",
    "\n",
    "model.add(Activation('softmax'))"
   ]
  },
  {
   "cell_type": "code",
   "execution_count": 15,
   "id": "flush-machinery",
   "metadata": {
    "execution": {
     "iopub.execute_input": "2021-04-29T04:16:36.028971Z",
     "iopub.status.busy": "2021-04-29T04:16:36.026529Z",
     "iopub.status.idle": "2021-04-29T04:16:36.038864Z",
     "shell.execute_reply": "2021-04-29T04:16:36.037926Z"
    },
    "id": "iTCqo7E6oZHq",
    "outputId": "b30b0369-5427-4a28-d409-1f2504b88f32",
    "papermill": {
     "duration": 0.070488,
     "end_time": "2021-04-29T04:16:36.039060",
     "exception": false,
     "start_time": "2021-04-29T04:16:35.968572",
     "status": "completed"
    },
    "tags": []
   },
   "outputs": [
    {
     "name": "stdout",
     "output_type": "stream",
     "text": [
      "Model: \"sequential\"\n",
      "_________________________________________________________________\n",
      "Layer (type)                 Output Shape              Param #   \n",
      "=================================================================\n",
      "dense (Dense)                (None, 512)               401920    \n",
      "_________________________________________________________________\n",
      "activation (Activation)      (None, 512)               0         \n",
      "_________________________________________________________________\n",
      "dropout (Dropout)            (None, 512)               0         \n",
      "_________________________________________________________________\n",
      "dense_1 (Dense)              (None, 512)               262656    \n",
      "_________________________________________________________________\n",
      "activation_1 (Activation)    (None, 512)               0         \n",
      "_________________________________________________________________\n",
      "dropout_1 (Dropout)          (None, 512)               0         \n",
      "_________________________________________________________________\n",
      "dense_2 (Dense)              (None, 10)                5130      \n",
      "_________________________________________________________________\n",
      "activation_2 (Activation)    (None, 10)                0         \n",
      "=================================================================\n",
      "Total params: 669,706\n",
      "Trainable params: 669,706\n",
      "Non-trainable params: 0\n",
      "_________________________________________________________________\n"
     ]
    }
   ],
   "source": [
    "# Summarize the built model\n",
    "\n",
    "model.summary()"
   ]
  },
  {
   "cell_type": "markdown",
   "id": "egyptian-premium",
   "metadata": {
    "id": "wXjPgqwHoZHq",
    "papermill": {
     "duration": 0.051199,
     "end_time": "2021-04-29T04:16:36.143738",
     "exception": false,
     "start_time": "2021-04-29T04:16:36.092539",
     "status": "completed"
    },
    "tags": []
   },
   "source": [
    "## Compiling the model\n",
    "\n",
    "Keras is built on top of Theano and TensorFlow. Both packages allow you to define a *computation graph* in Python, which then compiles and runs efficiently on the CPU or GPU without the overhead of the Python interpreter.\n",
    "\n",
    "When compiing a model, Keras asks you to specify your **loss function** and your **optimizer**. The loss function we'll use here is called *categorical cross-entropy*, and is a loss function well-suited to comparing two probability distributions.\n",
    "\n",
    "Our predictions are probability distributions across the ten different digits (e.g. \"we're 80% confident this image is a 3, 10% sure it's an 8, 5% it's a 2, etc.\"), and the target is a probability distribution with 100% for the correct category, and 0 for everything else. The cross-entropy is a measure of how different your predicted distribution is from the target distribution. [More detail at Wikipedia](https://en.wikipedia.org/wiki/Cross_entropy)\n",
    "\n",
    "The optimizer helps determine how quickly the model learns through **gradient descent**. The rate at which descends a gradient is called the **learning rate**."
   ]
  },
  {
   "cell_type": "markdown",
   "id": "olympic-custody",
   "metadata": {
    "id": "fRyTR-jIoZHq",
    "papermill": {
     "duration": 0.050987,
     "end_time": "2021-04-29T04:16:36.245439",
     "exception": false,
     "start_time": "2021-04-29T04:16:36.194452",
     "status": "completed"
    },
    "tags": []
   },
   "source": [
    "<img src = \"gradient_descent.png\" >"
   ]
  },
  {
   "cell_type": "markdown",
   "id": "laughing-italian",
   "metadata": {
    "id": "8QDl1CR0oZHq",
    "papermill": {
     "duration": 0.05315,
     "end_time": "2021-04-29T04:16:36.351515",
     "exception": false,
     "start_time": "2021-04-29T04:16:36.298365",
     "status": "completed"
    },
    "tags": []
   },
   "source": [
    "<img src = \"learning_rate.png\" >"
   ]
  },
  {
   "cell_type": "markdown",
   "id": "pharmaceutical-administrator",
   "metadata": {
    "id": "DQc0F1YmoZHr",
    "papermill": {
     "duration": 0.051365,
     "end_time": "2021-04-29T04:16:36.456151",
     "exception": false,
     "start_time": "2021-04-29T04:16:36.404786",
     "status": "completed"
    },
    "tags": []
   },
   "source": [
    "So are smaller learning rates better? Not quite! It's important for an optimizer not to get stuck in local minima while neglecting the global minimum of the loss function. Sometimes that means trying a larger learning rate to jump out of a local minimum."
   ]
  },
  {
   "cell_type": "markdown",
   "id": "weekly-desert",
   "metadata": {
    "id": "tTDn6LoXoZHr",
    "papermill": {
     "duration": 0.053255,
     "end_time": "2021-04-29T04:16:36.560879",
     "exception": false,
     "start_time": "2021-04-29T04:16:36.507624",
     "status": "completed"
    },
    "tags": []
   },
   "source": [
    "<img src = 'complicated_loss_function.png' >"
   ]
  },
  {
   "cell_type": "code",
   "execution_count": 16,
   "id": "spare-entity",
   "metadata": {
    "execution": {
     "iopub.execute_input": "2021-04-29T04:16:36.672161Z",
     "iopub.status.busy": "2021-04-29T04:16:36.671205Z",
     "iopub.status.idle": "2021-04-29T04:16:36.688144Z",
     "shell.execute_reply": "2021-04-29T04:16:36.687572Z"
    },
    "id": "7-sJuSSsoZHr",
    "papermill": {
     "duration": 0.073674,
     "end_time": "2021-04-29T04:16:36.688294",
     "exception": false,
     "start_time": "2021-04-29T04:16:36.614620",
     "status": "completed"
    },
    "tags": []
   },
   "outputs": [],
   "source": [
    "# Let's use the Adam optimizer for learning\n",
    "model.compile(loss='categorical_crossentropy', optimizer='adam', metrics=['accuracy'])"
   ]
  },
  {
   "cell_type": "markdown",
   "id": "moral-vancouver",
   "metadata": {
    "id": "wpCq8_e_oZHr",
    "papermill": {
     "duration": 0.051108,
     "end_time": "2021-04-29T04:16:36.791354",
     "exception": false,
     "start_time": "2021-04-29T04:16:36.740246",
     "status": "completed"
    },
    "tags": []
   },
   "source": [
    "## Train the model!\n",
    "This is the fun part! "
   ]
  },
  {
   "cell_type": "markdown",
   "id": "protecting-yeast",
   "metadata": {
    "id": "VGBmybD2oZHt",
    "papermill": {
     "duration": 0.051901,
     "end_time": "2021-04-29T04:16:36.898040",
     "exception": false,
     "start_time": "2021-04-29T04:16:36.846139",
     "status": "completed"
    },
    "tags": []
   },
   "source": [
    "The batch size determines over how much data per step is used to compute the loss function, gradients, and back propagation. Large batch sizes allow the network to complete it's training faster; however, there are other factors beyond training speed to consider.\n",
    "\n",
    "Too large of a batch size smoothes the local minima of the loss function, causing the optimizer to settle in one because it thinks it found the global minimum.\n",
    "\n",
    "Too small of a batch size creates a very noisy loss function, and the optimizer may never find the global minimum.\n",
    "\n",
    "So a good batch size may take some trial and error to find!"
   ]
  },
  {
   "cell_type": "code",
   "execution_count": 17,
   "id": "invisible-diversity",
   "metadata": {
    "execution": {
     "iopub.execute_input": "2021-04-29T04:16:37.010951Z",
     "iopub.status.busy": "2021-04-29T04:16:37.010133Z",
     "iopub.status.idle": "2021-04-29T04:16:46.034017Z",
     "shell.execute_reply": "2021-04-29T04:16:46.034814Z"
    },
    "id": "VeiLkkXpoZHt",
    "outputId": "4e7b2814-d37a-454b-c7bb-c9a35ce723e5",
    "papermill": {
     "duration": 9.084154,
     "end_time": "2021-04-29T04:16:46.035002",
     "exception": false,
     "start_time": "2021-04-29T04:16:36.950848",
     "status": "completed"
    },
    "tags": []
   },
   "outputs": [
    {
     "name": "stdout",
     "output_type": "stream",
     "text": [
      "Epoch 1/5\n",
      "469/469 [==============================] - 3s 3ms/step - loss: 0.4513 - accuracy: 0.8629\n",
      "Epoch 2/5\n",
      "469/469 [==============================] - 1s 3ms/step - loss: 0.1091 - accuracy: 0.9661\n",
      "Epoch 3/5\n",
      "469/469 [==============================] - 2s 3ms/step - loss: 0.0687 - accuracy: 0.9785\n",
      "Epoch 4/5\n",
      "469/469 [==============================] - 1s 3ms/step - loss: 0.0518 - accuracy: 0.9836\n",
      "Epoch 5/5\n",
      "469/469 [==============================] - 2s 3ms/step - loss: 0.0432 - accuracy: 0.9856\n"
     ]
    },
    {
     "data": {
      "text/plain": [
       "<tensorflow.python.keras.callbacks.History at 0x7fe8ab081a50>"
      ]
     },
     "execution_count": 17,
     "metadata": {},
     "output_type": "execute_result"
    }
   ],
   "source": [
    "model.fit(X_train, Y_train,\n",
    "          batch_size=128, epochs=5,\n",
    "          verbose=1)"
   ]
  },
  {
   "cell_type": "markdown",
   "id": "circular-dominant",
   "metadata": {
    "id": "5j-rn5MWoZHt",
    "papermill": {
     "duration": 0.146981,
     "end_time": "2021-04-29T04:16:46.378288",
     "exception": false,
     "start_time": "2021-04-29T04:16:46.231307",
     "status": "completed"
    },
    "tags": []
   },
   "source": [
    "The two numbers, in order, represent the value of the loss function of the network on the training set, and the overall accuracy of the network on the training data. But how does it do on data it did not train on?"
   ]
  },
  {
   "cell_type": "markdown",
   "id": "juvenile-principle",
   "metadata": {
    "id": "KfGRC92yoZHu",
    "papermill": {
     "duration": 0.100507,
     "end_time": "2021-04-29T04:16:46.580097",
     "exception": false,
     "start_time": "2021-04-29T04:16:46.479590",
     "status": "completed"
    },
    "tags": []
   },
   "source": [
    "## Evaluate Model's Accuracy on Test Data"
   ]
  },
  {
   "cell_type": "code",
   "execution_count": 18,
   "id": "entire-nickname",
   "metadata": {
    "execution": {
     "iopub.execute_input": "2021-04-29T04:16:46.792933Z",
     "iopub.status.busy": "2021-04-29T04:16:46.791698Z",
     "iopub.status.idle": "2021-04-29T04:16:47.762899Z",
     "shell.execute_reply": "2021-04-29T04:16:47.763481Z"
    },
    "id": "jzQLYfdFoZHu",
    "outputId": "5f537ceb-bb34-4cfe-9139-2a4c8b6b3407",
    "papermill": {
     "duration": 1.08169,
     "end_time": "2021-04-29T04:16:47.763658",
     "exception": false,
     "start_time": "2021-04-29T04:16:46.681968",
     "status": "completed"
    },
    "tags": []
   },
   "outputs": [
    {
     "name": "stdout",
     "output_type": "stream",
     "text": [
      "313/313 [==============================] - 1s 2ms/step - loss: 0.0610 - accuracy: 0.9818\n",
      "Test score: 0.06102761998772621\n",
      "Test accuracy: 0.9818000197410583\n"
     ]
    }
   ],
   "source": [
    "score = model.evaluate(X_test, Y_test)\n",
    "print('Test score:', score[0])\n",
    "print('Test accuracy:', score[1])"
   ]
  },
  {
   "cell_type": "markdown",
   "id": "english-freedom",
   "metadata": {
    "id": "Wwwubz2moZHu",
    "papermill": {
     "duration": 0.108795,
     "end_time": "2021-04-29T04:16:47.981428",
     "exception": false,
     "start_time": "2021-04-29T04:16:47.872633",
     "status": "completed"
    },
    "tags": []
   },
   "source": [
    "### Inspecting the output\n",
    "\n",
    "It's always a good idea to inspect the output and make sure everything looks sane. Here we'll look at some examples it gets right, and some examples it gets wrong."
   ]
  },
  {
   "cell_type": "code",
   "execution_count": 19,
   "id": "closing-regulation",
   "metadata": {
    "execution": {
     "iopub.execute_input": "2021-04-29T04:16:48.199803Z",
     "iopub.status.busy": "2021-04-29T04:16:48.198779Z",
     "iopub.status.idle": "2021-04-29T04:16:48.617604Z",
     "shell.execute_reply": "2021-04-29T04:16:48.616153Z"
    },
    "id": "XfwdUSmVoZHu",
    "outputId": "e3f13269-698b-45ae-a25f-6f2d4f886298",
    "papermill": {
     "duration": 0.530108,
     "end_time": "2021-04-29T04:16:48.617772",
     "exception": false,
     "start_time": "2021-04-29T04:16:48.087664",
     "status": "completed"
    },
    "tags": []
   },
   "outputs": [
    {
     "name": "stderr",
     "output_type": "stream",
     "text": [
      "/opt/conda/lib/python3.7/site-packages/tensorflow/python/keras/engine/sequential.py:450: UserWarning: `model.predict_classes()` is deprecated and will be removed after 2021-01-01. Please use instead:* `np.argmax(model.predict(x), axis=-1)`,   if your model does multi-class classification   (e.g. if it uses a `softmax` last-layer activation).* `(model.predict(x) > 0.5).astype(\"int32\")`,   if your model does binary classification   (e.g. if it uses a `sigmoid` last-layer activation).\n",
      "  warnings.warn('`model.predict_classes()` is deprecated and '\n"
     ]
    }
   ],
   "source": [
    "# The predict_classes function outputs the highest probability class\n",
    "# according to the trained classifier for each input example.\n",
    "predicted_classes = model.predict_classes(X_test)\n",
    "\n",
    "# Check which items we got right / wrong\n",
    "correct_indices = np.nonzero(predicted_classes == y_test)[0]\n",
    "\n",
    "incorrect_indices = np.nonzero(predicted_classes != y_test)[0]"
   ]
  },
  {
   "cell_type": "code",
   "execution_count": 20,
   "id": "sunset-norman",
   "metadata": {
    "execution": {
     "iopub.execute_input": "2021-04-29T04:16:48.887867Z",
     "iopub.status.busy": "2021-04-29T04:16:48.865195Z",
     "iopub.status.idle": "2021-04-29T04:16:51.539811Z",
     "shell.execute_reply": "2021-04-29T04:16:51.540488Z"
    },
    "id": "iG58b48MoZHu",
    "outputId": "0477d3a5-0a07-44f5-fc0d-74d84ba61c60",
    "papermill": {
     "duration": 2.815405,
     "end_time": "2021-04-29T04:16:51.540739",
     "exception": false,
     "start_time": "2021-04-29T04:16:48.725334",
     "status": "completed"
    },
    "tags": []
   },
   "outputs": [
    {
     "data": {
      "image/png": "[encoded data removed]",
      "text/plain": [
       "<Figure size 648x648 with 9 Axes>"
      ]
     },
     "metadata": {
      "needs_background": "light"
     },
     "output_type": "display_data"
    },
    {
     "data": {
      "image/png": "[encoded data removed]",
      "text/plain": [
       "<Figure size 648x648 with 9 Axes>"
      ]
     },
     "metadata": {
      "needs_background": "light"
     },
     "output_type": "display_data"
    }
   ],
   "source": [
    "plt.figure()\n",
    "for i, correct in enumerate(correct_indices[:9]):\n",
    "    plt.subplot(3,3,i+1)\n",
    "    plt.imshow(X_test[correct].reshape(28,28), cmap='gray', interpolation='none')\n",
    "    plt.title(\"Predicted {}, Class {}\".format(predicted_classes[correct], y_test[correct]))\n",
    "    \n",
    "plt.tight_layout()\n",
    "    \n",
    "plt.figure()\n",
    "for i, incorrect in enumerate(incorrect_indices[:9]):\n",
    "    plt.subplot(3,3,i+1)\n",
    "    plt.imshow(X_test[incorrect].reshape(28,28), cmap='gray', interpolation='none')\n",
    "    plt.title(\"Predicted {}, Class {}\".format(predicted_classes[incorrect], y_test[incorrect]))\n",
    "    \n",
    "plt.tight_layout()"
   ]
  },
  {
   "cell_type": "markdown",
   "id": "difficult-kuwait",
   "metadata": {
    "id": "lbzZy2IGoZHu",
    "papermill": {
     "duration": 0.111176,
     "end_time": "2021-04-29T04:16:51.775827",
     "exception": false,
     "start_time": "2021-04-29T04:16:51.664651",
     "status": "completed"
    },
    "tags": []
   },
   "source": [
    "# Trying experimenting with the batch size!\n",
    "\n",
    "#### How does increasing the batch size to 10,000 affect the training time and test accuracy?\n",
    "\n",
    "#### How about a batch size of 32?"
   ]
  },
  {
   "cell_type": "markdown",
   "id": "pleased-finger",
   "metadata": {
    "id": "ImVQ6pt4oZHv",
    "papermill": {
     "duration": 0.110827,
     "end_time": "2021-04-29T04:16:51.997353",
     "exception": false,
     "start_time": "2021-04-29T04:16:51.886526",
     "status": "completed"
    },
    "tags": []
   },
   "source": [
    "# Introducing Convolution! What is it?"
   ]
  },
  {
   "cell_type": "markdown",
   "id": "improved-couple",
   "metadata": {
    "id": "vCkDPgPWoZHv",
    "papermill": {
     "duration": 0.110739,
     "end_time": "2021-04-29T04:16:52.219428",
     "exception": false,
     "start_time": "2021-04-29T04:16:52.108689",
     "status": "completed"
    },
    "tags": []
   },
   "source": [
    "Before, we built a network that accepts the normalized pixel values of each value and operates soley on those values. What if we could instead feed different features (e.g. **curvature, edges**) of each image into a network, and have the network learn which features are important for classifying an image?\n",
    "\n",
    "This possible through convolution! Convolution applies **kernels** (filters) that traverse through each image and generate **feature maps**."
   ]
  },
  {
   "cell_type": "markdown",
   "id": "innocent-circus",
   "metadata": {
    "id": "YtVDcJXNoZHv",
    "papermill": {
     "duration": 0.110822,
     "end_time": "2021-04-29T04:16:52.442109",
     "exception": false,
     "start_time": "2021-04-29T04:16:52.331287",
     "status": "completed"
    },
    "tags": []
   },
   "source": [
    "<img src = 'convolution.gif' >"
   ]
  },
  {
   "cell_type": "markdown",
   "id": "bridal-venice",
   "metadata": {
    "id": "dQ0Vpx_CoZHv",
    "papermill": {
     "duration": 0.110503,
     "end_time": "2021-04-29T04:16:52.660204",
     "exception": false,
     "start_time": "2021-04-29T04:16:52.549701",
     "status": "completed"
    },
    "tags": []
   },
   "source": [
    "In the above example, the image is a 5 x 5 matrix and the kernel going over it is a 3 x 3 matrix. A dot product operation takes place between the image and the kernel and the convolved feature is generated. Each kernel in a CNN learns a different characteristic of an image.\n",
    "\n",
    "Kernels are often used in photoediting software to apply blurring, edge detection, sharpening, etc."
   ]
  },
  {
   "cell_type": "markdown",
   "id": "measured-trauma",
   "metadata": {
    "id": "4azC-MTxoZHv",
    "papermill": {
     "duration": 0.109774,
     "end_time": "2021-04-29T04:16:52.879536",
     "exception": false,
     "start_time": "2021-04-29T04:16:52.769762",
     "status": "completed"
    },
    "tags": []
   },
   "source": [
    "<img src = 'kernels.png' >"
   ]
  },
  {
   "cell_type": "markdown",
   "id": "extraordinary-kernel",
   "metadata": {
    "id": "VmpLArBMoZHv",
    "papermill": {
     "duration": 0.121256,
     "end_time": "2021-04-29T04:16:53.111184",
     "exception": false,
     "start_time": "2021-04-29T04:16:52.989928",
     "status": "completed"
    },
    "tags": []
   },
   "source": [
    "Kernels in deep learning networks are used in similar ways, i.e. highlighting some feature. Combined with a system called **max pooling**, the non-highlighted elements are discarded from each feature map, leaving only the features of interest, reducing the number of learned parameters, and decreasing the computational cost (e.g. system memory)."
   ]
  },
  {
   "cell_type": "markdown",
   "id": "considered-purse",
   "metadata": {
    "id": "9IDsymkOoZHv",
    "papermill": {
     "duration": 0.116214,
     "end_time": "2021-04-29T04:16:53.350105",
     "exception": false,
     "start_time": "2021-04-29T04:16:53.233891",
     "status": "completed"
    },
    "tags": []
   },
   "source": [
    "<img src = 'max_pooling.png' >"
   ]
  },
  {
   "cell_type": "markdown",
   "id": "worldwide-baptist",
   "metadata": {
    "id": "Bx2vTH5joZHw",
    "papermill": {
     "duration": 0.114775,
     "end_time": "2021-04-29T04:16:53.581646",
     "exception": false,
     "start_time": "2021-04-29T04:16:53.466871",
     "status": "completed"
    },
    "tags": []
   },
   "source": [
    "We can also take convolutions of convolutions -- we can stack as many convolutions as we want, as long as there are enough pixels to fit a kernel.\n",
    "\n",
    "*Warning: What you may find down there in those deep convolutions may not appear recognizable to you.*"
   ]
  },
  {
   "cell_type": "markdown",
   "id": "beginning-statement",
   "metadata": {
    "id": "OBTGlzKUoZHw",
    "papermill": {
     "duration": 0.112348,
     "end_time": "2021-04-29T04:16:53.809970",
     "exception": false,
     "start_time": "2021-04-29T04:16:53.697622",
     "status": "completed"
    },
    "tags": []
   },
   "source": [
    "<img src = 'go_deeper.jpg' >"
   ]
  },
  {
   "cell_type": "markdown",
   "id": "informational-graduate",
   "metadata": {
    "id": "bD40kiDqoZHw",
    "papermill": {
     "duration": 0.111658,
     "end_time": "2021-04-29T04:16:54.034654",
     "exception": false,
     "start_time": "2021-04-29T04:16:53.922996",
     "status": "completed"
    },
    "tags": []
   },
   "source": [
    "## Building a \"Deep\" Convolutional Neural Network"
   ]
  },
  {
   "cell_type": "code",
   "execution_count": 21,
   "id": "palestinian-fitting",
   "metadata": {
    "execution": {
     "iopub.execute_input": "2021-04-29T04:16:54.261491Z",
     "iopub.status.busy": "2021-04-29T04:16:54.259613Z",
     "iopub.status.idle": "2021-04-29T04:16:54.265021Z",
     "shell.execute_reply": "2021-04-29T04:16:54.264432Z"
    },
    "id": "FTFnGwjgoZHw",
    "papermill": {
     "duration": 0.119992,
     "end_time": "2021-04-29T04:16:54.265180",
     "exception": false,
     "start_time": "2021-04-29T04:16:54.145188",
     "status": "completed"
    },
    "tags": []
   },
   "outputs": [],
   "source": [
    "# import some additional tools\n",
    "\n",
    "from keras.preprocessing.image import ImageDataGenerator\n",
    "from keras.layers import Conv2D, MaxPooling2D, ZeroPadding2D, GlobalAveragePooling2D, Flatten\n",
    "from keras.layers.normalization import BatchNormalization"
   ]
  },
  {
   "cell_type": "code",
   "execution_count": 22,
   "id": "fallen-austria",
   "metadata": {
    "execution": {
     "iopub.execute_input": "2021-04-29T04:16:54.490571Z",
     "iopub.status.busy": "2021-04-29T04:16:54.489617Z",
     "iopub.status.idle": "2021-04-29T04:16:54.791950Z",
     "shell.execute_reply": "2021-04-29T04:16:54.791380Z"
    },
    "id": "ge9VI8-yoZHw",
    "papermill": {
     "duration": 0.417233,
     "end_time": "2021-04-29T04:16:54.792096",
     "exception": false,
     "start_time": "2021-04-29T04:16:54.374863",
     "status": "completed"
    },
    "tags": []
   },
   "outputs": [],
   "source": [
    "# Reload the MNIST data\n",
    "(X_train, y_train), (X_test, y_test) = mnist.load_data()"
   ]
  },
  {
   "cell_type": "code",
   "execution_count": 23,
   "id": "incorporated-sperm",
   "metadata": {
    "execution": {
     "iopub.execute_input": "2021-04-29T04:16:55.022667Z",
     "iopub.status.busy": "2021-04-29T04:16:55.021312Z",
     "iopub.status.idle": "2021-04-29T04:16:55.135304Z",
     "shell.execute_reply": "2021-04-29T04:16:55.136057Z"
    },
    "id": "SDMxZXUGoZHw",
    "outputId": "468fc51d-f0c9-4605-fe9f-8abff1166635",
    "papermill": {
     "duration": 0.232206,
     "end_time": "2021-04-29T04:16:55.136326",
     "exception": false,
     "start_time": "2021-04-29T04:16:54.904120",
     "status": "completed"
    },
    "tags": []
   },
   "outputs": [
    {
     "name": "stdout",
     "output_type": "stream",
     "text": [
      "Training matrix shape (60000, 28, 28, 1)\n",
      "Testing matrix shape (10000, 28, 28, 1)\n"
     ]
    }
   ],
   "source": [
    "# Again, do some formatting\n",
    "# Except we do not flatten each image into a 784-length vector because we want to perform convolutions first\n",
    "\n",
    "X_train = X_train.reshape(60000, 28, 28, 1) #add an additional dimension to represent the single-channel\n",
    "X_test = X_test.reshape(10000, 28, 28, 1)\n",
    "\n",
    "X_train = X_train.astype('float32')         # change integers to 32-bit floating point numbers\n",
    "X_test = X_test.astype('float32')\n",
    "\n",
    "X_train /= 255                              # normalize each value for each pixel for the entire vector for each input\n",
    "X_test /= 255\n",
    "\n",
    "print(\"Training matrix shape\", X_train.shape)\n",
    "print(\"Testing matrix shape\", X_test.shape)"
   ]
  },
  {
   "cell_type": "code",
   "execution_count": 24,
   "id": "miniature-explosion",
   "metadata": {
    "execution": {
     "iopub.execute_input": "2021-04-29T04:16:55.365268Z",
     "iopub.status.busy": "2021-04-29T04:16:55.363604Z",
     "iopub.status.idle": "2021-04-29T04:16:55.368569Z",
     "shell.execute_reply": "2021-04-29T04:16:55.368017Z"
    },
    "id": "yOW1oXlNoZHw",
    "papermill": {
     "duration": 0.122052,
     "end_time": "2021-04-29T04:16:55.368721",
     "exception": false,
     "start_time": "2021-04-29T04:16:55.246669",
     "status": "completed"
    },
    "tags": []
   },
   "outputs": [],
   "source": [
    "# one-hot format classes\n",
    "\n",
    "nb_classes = 10 # number of unique digits\n",
    "\n",
    "Y_train = np_utils.to_categorical(y_train, nb_classes)\n",
    "Y_test = np_utils.to_categorical(y_test, nb_classes)"
   ]
  },
  {
   "cell_type": "code",
   "execution_count": 25,
   "id": "usual-washer",
   "metadata": {
    "execution": {
     "iopub.execute_input": "2021-04-29T04:16:55.618355Z",
     "iopub.status.busy": "2021-04-29T04:16:55.617278Z",
     "iopub.status.idle": "2021-04-29T04:16:55.787578Z",
     "shell.execute_reply": "2021-04-29T04:16:55.785976Z"
    },
    "id": "q574dV-DoZHx",
    "papermill": {
     "duration": 0.304376,
     "end_time": "2021-04-29T04:16:55.787748",
     "exception": false,
     "start_time": "2021-04-29T04:16:55.483372",
     "status": "completed"
    },
    "tags": []
   },
   "outputs": [],
   "source": [
    "model = Sequential()                                 # Linear stacking of layers\n",
    "\n",
    "# Convolution Layer 1\n",
    "model.add(Conv2D(32, (3, 3), input_shape=(28,28,1))) # 32 different 3x3 kernels -- so 32 feature maps\n",
    "model.add(BatchNormalization(axis=-1))               # normalize each feature map before activation\n",
    "convLayer01 = Activation('relu')                     # activation\n",
    "model.add(convLayer01)\n",
    "\n",
    "# Convolution Layer 2\n",
    "model.add(Conv2D(32, (3, 3)))                        # 32 different 3x3 kernels -- so 32 feature maps\n",
    "model.add(BatchNormalization(axis=-1))               # normalize each feature map before activation\n",
    "model.add(Activation('relu'))                        # activation\n",
    "convLayer02 = MaxPooling2D(pool_size=(2,2))          # Pool the max values over a 2x2 kernel\n",
    "model.add(convLayer02)\n",
    "\n",
    "# Convolution Layer 3\n",
    "model.add(Conv2D(64,(3, 3)))                         # 64 different 3x3 kernels -- so 64 feature maps\n",
    "model.add(BatchNormalization(axis=-1))               # normalize each feature map before activation\n",
    "convLayer03 = Activation('relu')                     # activation\n",
    "model.add(convLayer03)\n",
    "\n",
    "# Convolution Layer 4\n",
    "model.add(Conv2D(64, (3, 3)))                        # 64 different 3x3 kernels -- so 64 feature maps\n",
    "model.add(BatchNormalization(axis=-1))               # normalize each feature map before activation\n",
    "model.add(Activation('relu'))                        # activation\n",
    "convLayer04 = MaxPooling2D(pool_size=(2,2))          # Pool the max values over a 2x2 kernel\n",
    "model.add(convLayer04)\n",
    "model.add(Flatten())                                 # Flatten final 4x4x64 output matrix into a 1024-length vector\n",
    "\n",
    "# Fully Connected Layer 5\n",
    "model.add(Dense(512))                                # 512 FCN nodes\n",
    "model.add(BatchNormalization())                      # normalization\n",
    "model.add(Activation('relu'))                        # activation\n",
    "\n",
    "# Fully Connected Layer 6                       \n",
    "model.add(Dropout(0.2))                              # 20% dropout of randomly selected nodes\n",
    "model.add(Dense(10))                                 # final 10 FCN nodes\n",
    "model.add(Activation('softmax'))                     # softmax activation"
   ]
  },
  {
   "cell_type": "code",
   "execution_count": 26,
   "id": "norwegian-yacht",
   "metadata": {
    "execution": {
     "iopub.execute_input": "2021-04-29T04:16:56.032883Z",
     "iopub.status.busy": "2021-04-29T04:16:56.031795Z",
     "iopub.status.idle": "2021-04-29T04:16:56.043317Z",
     "shell.execute_reply": "2021-04-29T04:16:56.042438Z"
    },
    "id": "epugAlvOoZHx",
    "outputId": "df9e154a-7c9b-4dd2-df55-5a6a17778867",
    "papermill": {
     "duration": 0.14006,
     "end_time": "2021-04-29T04:16:56.043570",
     "exception": false,
     "start_time": "2021-04-29T04:16:55.903510",
     "status": "completed"
    },
    "tags": []
   },
   "outputs": [
    {
     "name": "stdout",
     "output_type": "stream",
     "text": [
      "Model: \"sequential_1\"\n",
      "_________________________________________________________________\n",
      "Layer (type)                 Output Shape              Param #   \n",
      "=================================================================\n",
      "conv2d (Conv2D)              (None, 26, 26, 32)        320       \n",
      "_________________________________________________________________\n",
      "batch_normalization (BatchNo (None, 26, 26, 32)        128       \n",
      "_________________________________________________________________\n",
      "activation_3 (Activation)    (None, 26, 26, 32)        0         \n",
      "_________________________________________________________________\n",
      "conv2d_1 (Conv2D)            (None, 24, 24, 32)        9248      \n",
      "_________________________________________________________________\n",
      "batch_normalization_1 (Batch (None, 24, 24, 32)        128       \n",
      "_________________________________________________________________\n",
      "activation_4 (Activation)    (None, 24, 24, 32)        0         \n",
      "_________________________________________________________________\n",
      "max_pooling2d (MaxPooling2D) (None, 12, 12, 32)        0         \n",
      "_________________________________________________________________\n",
      "conv2d_2 (Conv2D)            (None, 10, 10, 64)        18496     \n",
      "_________________________________________________________________\n",
      "batch_normalization_2 (Batch (None, 10, 10, 64)        256       \n",
      "_________________________________________________________________\n",
      "activation_5 (Activation)    (None, 10, 10, 64)        0         \n",
      "_________________________________________________________________\n",
      "conv2d_3 (Conv2D)            (None, 8, 8, 64)          36928     \n",
      "_________________________________________________________________\n",
      "batch_normalization_3 (Batch (None, 8, 8, 64)          256       \n",
      "_________________________________________________________________\n",
      "activation_6 (Activation)    (None, 8, 8, 64)          0         \n",
      "_________________________________________________________________\n",
      "max_pooling2d_1 (MaxPooling2 (None, 4, 4, 64)          0         \n",
      "_________________________________________________________________\n",
      "flatten (Flatten)            (None, 1024)              0         \n",
      "_________________________________________________________________\n",
      "dense_3 (Dense)              (None, 512)               524800    \n",
      "_________________________________________________________________\n",
      "batch_normalization_4 (Batch (None, 512)               2048      \n",
      "_________________________________________________________________\n",
      "activation_7 (Activation)    (None, 512)               0         \n",
      "_________________________________________________________________\n",
      "dropout_2 (Dropout)          (None, 512)               0         \n",
      "_________________________________________________________________\n",
      "dense_4 (Dense)              (None, 10)                5130      \n",
      "_________________________________________________________________\n",
      "activation_8 (Activation)    (None, 10)                0         \n",
      "=================================================================\n",
      "Total params: 597,738\n",
      "Trainable params: 596,330\n",
      "Non-trainable params: 1,408\n",
      "_________________________________________________________________\n"
     ]
    }
   ],
   "source": [
    "model.summary()"
   ]
  },
  {
   "cell_type": "code",
   "execution_count": 27,
   "id": "biblical-uniform",
   "metadata": {
    "execution": {
     "iopub.execute_input": "2021-04-29T04:16:56.285362Z",
     "iopub.status.busy": "2021-04-29T04:16:56.282498Z",
     "iopub.status.idle": "2021-04-29T04:16:56.288928Z",
     "shell.execute_reply": "2021-04-29T04:16:56.288341Z"
    },
    "id": "w28oTgOfoZHx",
    "papermill": {
     "duration": 0.130977,
     "end_time": "2021-04-29T04:16:56.289073",
     "exception": false,
     "start_time": "2021-04-29T04:16:56.158096",
     "status": "completed"
    },
    "tags": []
   },
   "outputs": [],
   "source": [
    "# we'll use the same optimizer\n",
    "\n",
    "model.compile(loss='categorical_crossentropy', optimizer='adam', metrics=['accuracy'])"
   ]
  },
  {
   "cell_type": "code",
   "execution_count": 28,
   "id": "crazy-renewal",
   "metadata": {
    "execution": {
     "iopub.execute_input": "2021-04-29T04:16:56.524591Z",
     "iopub.status.busy": "2021-04-29T04:16:56.523891Z",
     "iopub.status.idle": "2021-04-29T04:16:56.528843Z",
     "shell.execute_reply": "2021-04-29T04:16:56.528034Z"
    },
    "id": "QreBE2sCoZHx",
    "papermill": {
     "duration": 0.125034,
     "end_time": "2021-04-29T04:16:56.529053",
     "exception": false,
     "start_time": "2021-04-29T04:16:56.404019",
     "status": "completed"
    },
    "tags": []
   },
   "outputs": [],
   "source": [
    "# data augmentation prevents overfitting by slightly changing the data randomly\n",
    "# Keras has a great built-in feature to do automatic augmentation\n",
    "\n",
    "gen = ImageDataGenerator(rotation_range=8, width_shift_range=0.08, shear_range=0.3,\n",
    "                         height_shift_range=0.08, zoom_range=0.08)\n",
    "\n",
    "test_gen = ImageDataGenerator()"
   ]
  },
  {
   "cell_type": "code",
   "execution_count": 29,
   "id": "pressed-incentive",
   "metadata": {
    "execution": {
     "iopub.execute_input": "2021-04-29T04:16:56.903816Z",
     "iopub.status.busy": "2021-04-29T04:16:56.902809Z",
     "iopub.status.idle": "2021-04-29T04:16:56.907284Z",
     "shell.execute_reply": "2021-04-29T04:16:56.908546Z"
    },
    "id": "pm5dzjFsoZHx",
    "papermill": {
     "duration": 0.225921,
     "end_time": "2021-04-29T04:16:56.908773",
     "exception": false,
     "start_time": "2021-04-29T04:16:56.682852",
     "status": "completed"
    },
    "tags": []
   },
   "outputs": [],
   "source": [
    "# We can then feed our augmented data in batches\n",
    "# Besides loss function considerations as before, this method actually results in significant memory savings\n",
    "# because we are actually LOADING the data into the network in batches before processing each batch\n",
    "\n",
    "# Before the data was all loaded into memory, but then processed in batches.\n",
    "\n",
    "train_generator = gen.flow(X_train, Y_train, batch_size=128)\n",
    "test_generator = test_gen.flow(X_test, Y_test, batch_size=128)"
   ]
  },
  {
   "cell_type": "code",
   "execution_count": 30,
   "id": "stylish-reward",
   "metadata": {
    "execution": {
     "iopub.execute_input": "2021-04-29T04:16:57.296107Z",
     "iopub.status.busy": "2021-04-29T04:16:57.294935Z",
     "iopub.status.idle": "2021-04-29T04:19:19.875551Z",
     "shell.execute_reply": "2021-04-29T04:19:19.876901Z"
    },
    "id": "8X2YnVWHoZHy",
    "outputId": "12a789ba-d03b-4ac6-ede2-d5ce7f3ecf75",
    "papermill": {
     "duration": 142.770971,
     "end_time": "2021-04-29T04:19:19.877188",
     "exception": false,
     "start_time": "2021-04-29T04:16:57.106217",
     "status": "completed"
    },
    "tags": []
   },
   "outputs": [
    {
     "name": "stderr",
     "output_type": "stream",
     "text": [
      "/opt/conda/lib/python3.7/site-packages/tensorflow/python/keras/engine/training.py:1844: UserWarning: `Model.fit_generator` is deprecated and will be removed in a future version. Please use `Model.fit`, which supports generators.\n",
      "  warnings.warn('`Model.fit_generator` is deprecated and '\n"
     ]
    },
    {
     "name": "stdout",
     "output_type": "stream",
     "text": [
      "Epoch 1/5\n",
      "468/468 [==============================] - 31s 58ms/step - loss: 0.2822 - accuracy: 0.9093 - val_loss: 0.2025 - val_accuracy: 0.9364\n",
      "Epoch 2/5\n",
      "468/468 [==============================] - 28s 59ms/step - loss: 0.0509 - accuracy: 0.9849 - val_loss: 0.0517 - val_accuracy: 0.9844\n",
      "Epoch 3/5\n",
      "468/468 [==============================] - 28s 60ms/step - loss: 0.0410 - accuracy: 0.9873 - val_loss: 0.0249 - val_accuracy: 0.9922\n",
      "Epoch 4/5\n",
      "468/468 [==============================] - 28s 60ms/step - loss: 0.0351 - accuracy: 0.9900 - val_loss: 0.0872 - val_accuracy: 0.9686\n",
      "Epoch 5/5\n",
      "468/468 [==============================] - 28s 59ms/step - loss: 0.0282 - accuracy: 0.9915 - val_loss: 0.0285 - val_accuracy: 0.9910\n"
     ]
    },
    {
     "data": {
      "text/plain": [
       "<tensorflow.python.keras.callbacks.History at 0x7fe8ae087c10>"
      ]
     },
     "execution_count": 30,
     "metadata": {},
     "output_type": "execute_result"
    }
   ],
   "source": [
    "# We can now train our model which is fed data by our batch loader\n",
    "# Steps per epoch should always be total size of the set divided by the batch size\n",
    "\n",
    "# SIGNIFICANT MEMORY SAVINGS (important for larger, deeper networks)\n",
    "\n",
    "model.fit_generator(train_generator, steps_per_epoch=60000//128, epochs=5, verbose=1, \n",
    "                    validation_data=test_generator, validation_steps=10000//128)"
   ]
  },
  {
   "cell_type": "code",
   "execution_count": 31,
   "id": "finished-visitor",
   "metadata": {
    "execution": {
     "iopub.execute_input": "2021-04-29T04:19:21.781894Z",
     "iopub.status.busy": "2021-04-29T04:19:21.780883Z",
     "iopub.status.idle": "2021-04-29T04:19:23.155161Z",
     "shell.execute_reply": "2021-04-29T04:19:23.154570Z"
    },
    "id": "y7Q5Y3YSoZHy",
    "outputId": "432746c7-3e59-4fb0-dea0-74e31292f213",
    "papermill": {
     "duration": 2.241753,
     "end_time": "2021-04-29T04:19:23.155356",
     "exception": false,
     "start_time": "2021-04-29T04:19:20.913603",
     "status": "completed"
    },
    "tags": []
   },
   "outputs": [
    {
     "name": "stdout",
     "output_type": "stream",
     "text": [
      "313/313 [==============================] - 1s 3ms/step - loss: 0.0285 - accuracy: 0.9910\n",
      "Test score: 0.028500467538833618\n",
      "Test accuracy: 0.9909999966621399\n"
     ]
    }
   ],
   "source": [
    "score = model.evaluate(X_test, Y_test)\n",
    "print('Test score:', score[0])\n",
    "print('Test accuracy:', score[1])"
   ]
  },
  {
   "cell_type": "markdown",
   "id": "completed-stadium",
   "metadata": {
    "id": "ESvYYZN3oZHy",
    "papermill": {
     "duration": 0.854281,
     "end_time": "2021-04-29T04:19:24.874977",
     "exception": false,
     "start_time": "2021-04-29T04:19:24.020696",
     "status": "completed"
    },
    "tags": []
   },
   "source": [
    "## Great results! \n",
    "\n",
    "But wouldn't it be nice if we could visualize those convolutions so that we can see what the model is seeing?"
   ]
  },
  {
   "cell_type": "code",
   "execution_count": 32,
   "id": "extraordinary-working",
   "metadata": {
    "execution": {
     "iopub.execute_input": "2021-04-29T04:19:26.616490Z",
     "iopub.status.busy": "2021-04-29T04:19:26.615814Z",
     "iopub.status.idle": "2021-04-29T04:19:26.621309Z",
     "shell.execute_reply": "2021-04-29T04:19:26.620432Z"
    },
    "id": "_40x8zB7oZHy",
    "papermill": {
     "duration": 0.881967,
     "end_time": "2021-04-29T04:19:26.621495",
     "exception": false,
     "start_time": "2021-04-29T04:19:25.739528",
     "status": "completed"
    },
    "tags": []
   },
   "outputs": [],
   "source": [
    "from keras import backend as K\n",
    "\n",
    "# choose any image to want by specifying the index\n",
    "img = X_test[3]\n",
    "img = np.expand_dims(img, axis=0) # Keras requires the image to be in 4D, so we add an extra dimension to it.\n",
    "\n",
    "# Not important to understand how this function work -- It just plots a convolution layer\n",
    "\n",
    "def visualize(layer):\n",
    "    inputs = [K.learning_phase()] + model.inputs\n",
    "    \n",
    "    _convout1_f = K.function(inputs, [layer.output])\n",
    "    \n",
    "    def convout1_f(X):\n",
    "        # The [0] is to disable the training phase flag\n",
    "        return _convout1_f([0] + [X])\n",
    "\n",
    "    convolutions = convout1_f(img)\n",
    "    convolutions = np.squeeze(convolutions)\n",
    "\n",
    "    print ('Shape of conv:', convolutions.shape)\n",
    "    \n",
    "    m = convolutions.shape[2]\n",
    "    n = int(np.ceil(np.sqrt(m)))\n",
    "    \n",
    "    # Visualization of each filter of the layer\n",
    "    fig = plt.figure(figsize=(15,12))\n",
    "    for i in range(m):\n",
    "        ax = fig.add_subplot(n,n,i+1)\n",
    "        ax.imshow(convolutions[:,:,i], cmap='gray')\n"
   ]
  },
  {
   "cell_type": "code",
   "execution_count": 33,
   "id": "pointed-webcam",
   "metadata": {
    "execution": {
     "iopub.execute_input": "2021-04-29T04:19:28.383699Z",
     "iopub.status.busy": "2021-04-29T04:19:28.382643Z",
     "iopub.status.idle": "2021-04-29T04:19:28.554357Z",
     "shell.execute_reply": "2021-04-29T04:19:28.554878Z"
    },
    "id": "6rm17iItoZHy",
    "outputId": "1d5b6cbb-2463-4dde-95ea-7347f741bc99",
    "papermill": {
     "duration": 1.07732,
     "end_time": "2021-04-29T04:19:28.555064",
     "exception": false,
     "start_time": "2021-04-29T04:19:27.477744",
     "status": "completed"
    },
    "tags": []
   },
   "outputs": [
    {
     "data": {
      "text/plain": [
       "<matplotlib.image.AxesImage at 0x7fe8adcc2a10>"
      ]
     },
     "execution_count": 33,
     "metadata": {},
     "output_type": "execute_result"
    },
    {
     "data": {
      "image/png": "[encoded data removed]",
      "text/plain": [
       "<Figure size 648x648 with 1 Axes>"
      ]
     },
     "metadata": {
      "needs_background": "light"
     },
     "output_type": "display_data"
    }
   ],
   "source": [
    "plt.figure()\n",
    "plt.imshow(X_test[3].reshape(28,28), cmap='gray', interpolation='none')"
   ]
  },
  {
   "cell_type": "code",
   "execution_count": 34,
   "id": "primary-bread",
   "metadata": {
    "execution": {
     "iopub.execute_input": "2021-04-29T04:19:30.292283Z",
     "iopub.status.busy": "2021-04-29T04:19:30.291531Z",
     "iopub.status.idle": "2021-04-29T04:19:30.341769Z",
     "shell.execute_reply": "2021-04-29T04:19:30.342751Z"
    },
    "id": "1hZhHiEuoZHy",
    "outputId": "0de728bf-c504-46f3-8d92-7a381d4d9bba",
    "papermill": {
     "duration": 0.925443,
     "end_time": "2021-04-29T04:19:30.342993",
     "exception": false,
     "start_time": "2021-04-29T04:19:29.417550",
     "status": "completed"
    },
    "tags": []
   },
   "outputs": [
    {
     "ename": "ValueError",
     "evalue": "Input tensors to a Functional must come from `tf.keras.Input`. Received: 0 (missing previous layer metadata).",
     "output_type": "error",
     "traceback": [
      "\u001b[0;31m---------------------------------------------------------------------------\u001b[0m",
      "\u001b[0;31mValueError\u001b[0m                                Traceback (most recent call last)",
      "\u001b[0;32m<ipython-input-34-803db138f5d4>\u001b[0m in \u001b[0;36m<module>\u001b[0;34m\u001b[0m\n\u001b[0;32m----> 1\u001b[0;31m \u001b[0mvisualize\u001b[0m\u001b[0;34m(\u001b[0m\u001b[0mconvLayer01\u001b[0m\u001b[0;34m)\u001b[0m \u001b[0;31m# visualize first set of feature maps\u001b[0m\u001b[0;34m\u001b[0m\u001b[0;34m\u001b[0m\u001b[0m\n\u001b[0m",
      "\u001b[0;32m<ipython-input-32-454b785c5aae>\u001b[0m in \u001b[0;36mvisualize\u001b[0;34m(layer)\u001b[0m\n\u001b[1;32m     10\u001b[0m     \u001b[0minputs\u001b[0m \u001b[0;34m=\u001b[0m \u001b[0;34m[\u001b[0m\u001b[0mK\u001b[0m\u001b[0;34m.\u001b[0m\u001b[0mlearning_phase\u001b[0m\u001b[0;34m(\u001b[0m\u001b[0;34m)\u001b[0m\u001b[0;34m]\u001b[0m \u001b[0;34m+\u001b[0m \u001b[0mmodel\u001b[0m\u001b[0;34m.\u001b[0m\u001b[0minputs\u001b[0m\u001b[0;34m\u001b[0m\u001b[0;34m\u001b[0m\u001b[0m\n\u001b[1;32m     11\u001b[0m \u001b[0;34m\u001b[0m\u001b[0m\n\u001b[0;32m---> 12\u001b[0;31m     \u001b[0m_convout1_f\u001b[0m \u001b[0;34m=\u001b[0m \u001b[0mK\u001b[0m\u001b[0;34m.\u001b[0m\u001b[0mfunction\u001b[0m\u001b[0;34m(\u001b[0m\u001b[0minputs\u001b[0m\u001b[0;34m,\u001b[0m \u001b[0;34m[\u001b[0m\u001b[0mlayer\u001b[0m\u001b[0;34m.\u001b[0m\u001b[0moutput\u001b[0m\u001b[0;34m]\u001b[0m\u001b[0;34m)\u001b[0m\u001b[0;34m\u001b[0m\u001b[0;34m\u001b[0m\u001b[0m\n\u001b[0m\u001b[1;32m     13\u001b[0m \u001b[0;34m\u001b[0m\u001b[0m\n\u001b[1;32m     14\u001b[0m     \u001b[0;32mdef\u001b[0m \u001b[0mconvout1_f\u001b[0m\u001b[0;34m(\u001b[0m\u001b[0mX\u001b[0m\u001b[0;34m)\u001b[0m\u001b[0;34m:\u001b[0m\u001b[0;34m\u001b[0m\u001b[0;34m\u001b[0m\u001b[0m\n",
      "\u001b[0;32m/opt/conda/lib/python3.7/site-packages/tensorflow/python/keras/backend.py\u001b[0m in \u001b[0;36mfunction\u001b[0;34m(inputs, outputs, updates, name, **kwargs)\u001b[0m\n\u001b[1;32m   4067\u001b[0m     \u001b[0;32mfrom\u001b[0m \u001b[0mtensorflow\u001b[0m\u001b[0;34m.\u001b[0m\u001b[0mpython\u001b[0m\u001b[0;34m.\u001b[0m\u001b[0mkeras\u001b[0m \u001b[0;32mimport\u001b[0m \u001b[0mmodels\u001b[0m  \u001b[0;31m# pylint: disable=g-import-not-at-top\u001b[0m\u001b[0;34m\u001b[0m\u001b[0;34m\u001b[0m\u001b[0m\n\u001b[1;32m   4068\u001b[0m     \u001b[0;32mfrom\u001b[0m \u001b[0mtensorflow\u001b[0m\u001b[0;34m.\u001b[0m\u001b[0mpython\u001b[0m\u001b[0;34m.\u001b[0m\u001b[0mkeras\u001b[0m\u001b[0;34m.\u001b[0m\u001b[0mutils\u001b[0m \u001b[0;32mimport\u001b[0m \u001b[0mtf_utils\u001b[0m  \u001b[0;31m# pylint: disable=g-import-not-at-top\u001b[0m\u001b[0;34m\u001b[0m\u001b[0;34m\u001b[0m\u001b[0m\n\u001b[0;32m-> 4069\u001b[0;31m     \u001b[0mmodel\u001b[0m \u001b[0;34m=\u001b[0m \u001b[0mmodels\u001b[0m\u001b[0;34m.\u001b[0m\u001b[0mModel\u001b[0m\u001b[0;34m(\u001b[0m\u001b[0minputs\u001b[0m\u001b[0;34m=\u001b[0m\u001b[0minputs\u001b[0m\u001b[0;34m,\u001b[0m \u001b[0moutputs\u001b[0m\u001b[0;34m=\u001b[0m\u001b[0moutputs\u001b[0m\u001b[0;34m)\u001b[0m\u001b[0;34m\u001b[0m\u001b[0;34m\u001b[0m\u001b[0m\n\u001b[0m\u001b[1;32m   4070\u001b[0m \u001b[0;34m\u001b[0m\u001b[0m\n\u001b[1;32m   4071\u001b[0m     \u001b[0mwrap_outputs\u001b[0m \u001b[0;34m=\u001b[0m \u001b[0misinstance\u001b[0m\u001b[0;34m(\u001b[0m\u001b[0moutputs\u001b[0m\u001b[0;34m,\u001b[0m \u001b[0mlist\u001b[0m\u001b[0;34m)\u001b[0m \u001b[0;32mand\u001b[0m \u001b[0mlen\u001b[0m\u001b[0;34m(\u001b[0m\u001b[0moutputs\u001b[0m\u001b[0;34m)\u001b[0m \u001b[0;34m==\u001b[0m \u001b[0;36m1\u001b[0m\u001b[0;34m\u001b[0m\u001b[0;34m\u001b[0m\u001b[0m\n",
      "\u001b[0;32m/opt/conda/lib/python3.7/site-packages/tensorflow/python/training/tracking/base.py\u001b[0m in \u001b[0;36m_method_wrapper\u001b[0;34m(self, *args, **kwargs)\u001b[0m\n\u001b[1;32m    515\u001b[0m     \u001b[0mself\u001b[0m\u001b[0;34m.\u001b[0m\u001b[0m_self_setattr_tracking\u001b[0m \u001b[0;34m=\u001b[0m \u001b[0;32mFalse\u001b[0m  \u001b[0;31m# pylint: disable=protected-access\u001b[0m\u001b[0;34m\u001b[0m\u001b[0;34m\u001b[0m\u001b[0m\n\u001b[1;32m    516\u001b[0m     \u001b[0;32mtry\u001b[0m\u001b[0;34m:\u001b[0m\u001b[0;34m\u001b[0m\u001b[0;34m\u001b[0m\u001b[0m\n\u001b[0;32m--> 517\u001b[0;31m       \u001b[0mresult\u001b[0m \u001b[0;34m=\u001b[0m \u001b[0mmethod\u001b[0m\u001b[0;34m(\u001b[0m\u001b[0mself\u001b[0m\u001b[0;34m,\u001b[0m \u001b[0;34m*\u001b[0m\u001b[0margs\u001b[0m\u001b[0;34m,\u001b[0m \u001b[0;34m**\u001b[0m\u001b[0mkwargs\u001b[0m\u001b[0;34m)\u001b[0m\u001b[0;34m\u001b[0m\u001b[0;34m\u001b[0m\u001b[0m\n\u001b[0m\u001b[1;32m    518\u001b[0m     \u001b[0;32mfinally\u001b[0m\u001b[0;34m:\u001b[0m\u001b[0;34m\u001b[0m\u001b[0;34m\u001b[0m\u001b[0m\n\u001b[1;32m    519\u001b[0m       \u001b[0mself\u001b[0m\u001b[0;34m.\u001b[0m\u001b[0m_self_setattr_tracking\u001b[0m \u001b[0;34m=\u001b[0m \u001b[0mprevious_value\u001b[0m  \u001b[0;31m# pylint: disable=protected-access\u001b[0m\u001b[0;34m\u001b[0m\u001b[0;34m\u001b[0m\u001b[0m\n",
      "\u001b[0;32m/opt/conda/lib/python3.7/site-packages/tensorflow/python/keras/engine/functional.py\u001b[0m in \u001b[0;36m__init__\u001b[0;34m(self, inputs, outputs, name, trainable, **kwargs)\u001b[0m\n\u001b[1;32m    118\u001b[0m     \u001b[0mgeneric_utils\u001b[0m\u001b[0;34m.\u001b[0m\u001b[0mvalidate_kwargs\u001b[0m\u001b[0;34m(\u001b[0m\u001b[0mkwargs\u001b[0m\u001b[0;34m,\u001b[0m \u001b[0;34m{\u001b[0m\u001b[0;34m}\u001b[0m\u001b[0;34m)\u001b[0m\u001b[0;34m\u001b[0m\u001b[0;34m\u001b[0m\u001b[0m\n\u001b[1;32m    119\u001b[0m     \u001b[0msuper\u001b[0m\u001b[0;34m(\u001b[0m\u001b[0mFunctional\u001b[0m\u001b[0;34m,\u001b[0m \u001b[0mself\u001b[0m\u001b[0;34m)\u001b[0m\u001b[0;34m.\u001b[0m\u001b[0m__init__\u001b[0m\u001b[0;34m(\u001b[0m\u001b[0mname\u001b[0m\u001b[0;34m=\u001b[0m\u001b[0mname\u001b[0m\u001b[0;34m,\u001b[0m \u001b[0mtrainable\u001b[0m\u001b[0;34m=\u001b[0m\u001b[0mtrainable\u001b[0m\u001b[0;34m)\u001b[0m\u001b[0;34m\u001b[0m\u001b[0;34m\u001b[0m\u001b[0m\n\u001b[0;32m--> 120\u001b[0;31m     \u001b[0mself\u001b[0m\u001b[0;34m.\u001b[0m\u001b[0m_init_graph_network\u001b[0m\u001b[0;34m(\u001b[0m\u001b[0minputs\u001b[0m\u001b[0;34m,\u001b[0m \u001b[0moutputs\u001b[0m\u001b[0;34m)\u001b[0m\u001b[0;34m\u001b[0m\u001b[0;34m\u001b[0m\u001b[0m\n\u001b[0m\u001b[1;32m    121\u001b[0m \u001b[0;34m\u001b[0m\u001b[0m\n\u001b[1;32m    122\u001b[0m   \u001b[0;34m@\u001b[0m\u001b[0mtrackable\u001b[0m\u001b[0;34m.\u001b[0m\u001b[0mno_automatic_dependency_tracking\u001b[0m\u001b[0;34m\u001b[0m\u001b[0;34m\u001b[0m\u001b[0m\n",
      "\u001b[0;32m/opt/conda/lib/python3.7/site-packages/tensorflow/python/training/tracking/base.py\u001b[0m in \u001b[0;36m_method_wrapper\u001b[0;34m(self, *args, **kwargs)\u001b[0m\n\u001b[1;32m    515\u001b[0m     \u001b[0mself\u001b[0m\u001b[0;34m.\u001b[0m\u001b[0m_self_setattr_tracking\u001b[0m \u001b[0;34m=\u001b[0m \u001b[0;32mFalse\u001b[0m  \u001b[0;31m# pylint: disable=protected-access\u001b[0m\u001b[0;34m\u001b[0m\u001b[0;34m\u001b[0m\u001b[0m\n\u001b[1;32m    516\u001b[0m     \u001b[0;32mtry\u001b[0m\u001b[0;34m:\u001b[0m\u001b[0;34m\u001b[0m\u001b[0;34m\u001b[0m\u001b[0m\n\u001b[0;32m--> 517\u001b[0;31m       \u001b[0mresult\u001b[0m \u001b[0;34m=\u001b[0m \u001b[0mmethod\u001b[0m\u001b[0;34m(\u001b[0m\u001b[0mself\u001b[0m\u001b[0;34m,\u001b[0m \u001b[0;34m*\u001b[0m\u001b[0margs\u001b[0m\u001b[0;34m,\u001b[0m \u001b[0;34m**\u001b[0m\u001b[0mkwargs\u001b[0m\u001b[0;34m)\u001b[0m\u001b[0;34m\u001b[0m\u001b[0;34m\u001b[0m\u001b[0m\n\u001b[0m\u001b[1;32m    518\u001b[0m     \u001b[0;32mfinally\u001b[0m\u001b[0;34m:\u001b[0m\u001b[0;34m\u001b[0m\u001b[0;34m\u001b[0m\u001b[0m\n\u001b[1;32m    519\u001b[0m       \u001b[0mself\u001b[0m\u001b[0;34m.\u001b[0m\u001b[0m_self_setattr_tracking\u001b[0m \u001b[0;34m=\u001b[0m \u001b[0mprevious_value\u001b[0m  \u001b[0;31m# pylint: disable=protected-access\u001b[0m\u001b[0;34m\u001b[0m\u001b[0;34m\u001b[0m\u001b[0m\n",
      "\u001b[0;32m/opt/conda/lib/python3.7/site-packages/tensorflow/python/keras/engine/functional.py\u001b[0m in \u001b[0;36m_init_graph_network\u001b[0;34m(self, inputs, outputs)\u001b[0m\n\u001b[1;32m    155\u001b[0m         \u001b[0mbase_layer_utils\u001b[0m\u001b[0;34m.\u001b[0m\u001b[0mcreate_keras_history\u001b[0m\u001b[0;34m(\u001b[0m\u001b[0mself\u001b[0m\u001b[0;34m.\u001b[0m\u001b[0m_nested_outputs\u001b[0m\u001b[0;34m)\u001b[0m\u001b[0;34m\u001b[0m\u001b[0;34m\u001b[0m\u001b[0m\n\u001b[1;32m    156\u001b[0m \u001b[0;34m\u001b[0m\u001b[0m\n\u001b[0;32m--> 157\u001b[0;31m     \u001b[0mself\u001b[0m\u001b[0;34m.\u001b[0m\u001b[0m_validate_graph_inputs_and_outputs\u001b[0m\u001b[0;34m(\u001b[0m\u001b[0;34m)\u001b[0m\u001b[0;34m\u001b[0m\u001b[0;34m\u001b[0m\u001b[0m\n\u001b[0m\u001b[1;32m    158\u001b[0m \u001b[0;34m\u001b[0m\u001b[0m\n\u001b[1;32m    159\u001b[0m     \u001b[0;31m# A Network does not create weights of its own, thus it is already\u001b[0m\u001b[0;34m\u001b[0m\u001b[0;34m\u001b[0m\u001b[0;34m\u001b[0m\u001b[0m\n",
      "\u001b[0;32m/opt/conda/lib/python3.7/site-packages/tensorflow/python/keras/engine/functional.py\u001b[0m in \u001b[0;36m_validate_graph_inputs_and_outputs\u001b[0;34m(self)\u001b[0m\n\u001b[1;32m    689\u001b[0m                          \u001b[0;34m'must come from `tf.keras.Input`. '\u001b[0m\u001b[0;34m\u001b[0m\u001b[0;34m\u001b[0m\u001b[0m\n\u001b[1;32m    690\u001b[0m                          \u001b[0;34m'Received: '\u001b[0m \u001b[0;34m+\u001b[0m \u001b[0mstr\u001b[0m\u001b[0;34m(\u001b[0m\u001b[0mx\u001b[0m\u001b[0;34m)\u001b[0m \u001b[0;34m+\u001b[0m\u001b[0;34m\u001b[0m\u001b[0;34m\u001b[0m\u001b[0m\n\u001b[0;32m--> 691\u001b[0;31m                          ' (missing previous layer metadata).')\n\u001b[0m\u001b[1;32m    692\u001b[0m       \u001b[0;31m# Check that x is an input tensor.\u001b[0m\u001b[0;34m\u001b[0m\u001b[0;34m\u001b[0m\u001b[0;34m\u001b[0m\u001b[0m\n\u001b[1;32m    693\u001b[0m       \u001b[0;31m# pylint: disable=protected-access\u001b[0m\u001b[0;34m\u001b[0m\u001b[0;34m\u001b[0m\u001b[0;34m\u001b[0m\u001b[0m\n",
      "\u001b[0;31mValueError\u001b[0m: Input tensors to a Functional must come from `tf.keras.Input`. Received: 0 (missing previous layer metadata)."
     ]
    }
   ],
   "source": [
    "visualize(convLayer01) # visualize first set of feature maps"
   ]
  },
  {
   "cell_type": "code",
   "execution_count": 35,
   "id": "communist-religious",
   "metadata": {
    "execution": {
     "iopub.execute_input": "2021-04-29T04:19:32.417671Z",
     "iopub.status.busy": "2021-04-29T04:19:32.416508Z",
     "iopub.status.idle": "2021-04-29T04:19:32.455703Z",
     "shell.execute_reply": "2021-04-29T04:19:32.456342Z"
    },
    "id": "lrieI-b_oZHy",
    "papermill": {
     "duration": 0.921307,
     "end_time": "2021-04-29T04:19:32.456561",
     "exception": false,
     "start_time": "2021-04-29T04:19:31.535254",
     "status": "completed"
    },
    "tags": []
   },
   "outputs": [
    {
     "ename": "ValueError",
     "evalue": "Input tensors to a Functional must come from `tf.keras.Input`. Received: 0 (missing previous layer metadata).",
     "output_type": "error",
     "traceback": [
      "\u001b[0;31m---------------------------------------------------------------------------\u001b[0m",
      "\u001b[0;31mValueError\u001b[0m                                Traceback (most recent call last)",
      "\u001b[0;32m<ipython-input-35-bf2a2a446b0c>\u001b[0m in \u001b[0;36m<module>\u001b[0;34m\u001b[0m\n\u001b[0;32m----> 1\u001b[0;31m \u001b[0mvisualize\u001b[0m\u001b[0;34m(\u001b[0m\u001b[0mconvLayer02\u001b[0m\u001b[0;34m)\u001b[0m \u001b[0;31m# visualize second set of feature maps\u001b[0m\u001b[0;34m\u001b[0m\u001b[0;34m\u001b[0m\u001b[0m\n\u001b[0m",
      "\u001b[0;32m<ipython-input-32-454b785c5aae>\u001b[0m in \u001b[0;36mvisualize\u001b[0;34m(layer)\u001b[0m\n\u001b[1;32m     10\u001b[0m     \u001b[0minputs\u001b[0m \u001b[0;34m=\u001b[0m \u001b[0;34m[\u001b[0m\u001b[0mK\u001b[0m\u001b[0;34m.\u001b[0m\u001b[0mlearning_phase\u001b[0m\u001b[0;34m(\u001b[0m\u001b[0;34m)\u001b[0m\u001b[0;34m]\u001b[0m \u001b[0;34m+\u001b[0m \u001b[0mmodel\u001b[0m\u001b[0;34m.\u001b[0m\u001b[0minputs\u001b[0m\u001b[0;34m\u001b[0m\u001b[0;34m\u001b[0m\u001b[0m\n\u001b[1;32m     11\u001b[0m \u001b[0;34m\u001b[0m\u001b[0m\n\u001b[0;32m---> 12\u001b[0;31m     \u001b[0m_convout1_f\u001b[0m \u001b[0;34m=\u001b[0m \u001b[0mK\u001b[0m\u001b[0;34m.\u001b[0m\u001b[0mfunction\u001b[0m\u001b[0;34m(\u001b[0m\u001b[0minputs\u001b[0m\u001b[0;34m,\u001b[0m \u001b[0;34m[\u001b[0m\u001b[0mlayer\u001b[0m\u001b[0;34m.\u001b[0m\u001b[0moutput\u001b[0m\u001b[0;34m]\u001b[0m\u001b[0;34m)\u001b[0m\u001b[0;34m\u001b[0m\u001b[0;34m\u001b[0m\u001b[0m\n\u001b[0m\u001b[1;32m     13\u001b[0m \u001b[0;34m\u001b[0m\u001b[0m\n\u001b[1;32m     14\u001b[0m     \u001b[0;32mdef\u001b[0m \u001b[0mconvout1_f\u001b[0m\u001b[0;34m(\u001b[0m\u001b[0mX\u001b[0m\u001b[0;34m)\u001b[0m\u001b[0;34m:\u001b[0m\u001b[0;34m\u001b[0m\u001b[0;34m\u001b[0m\u001b[0m\n",
      "\u001b[0;32m/opt/conda/lib/python3.7/site-packages/tensorflow/python/keras/backend.py\u001b[0m in \u001b[0;36mfunction\u001b[0;34m(inputs, outputs, updates, name, **kwargs)\u001b[0m\n\u001b[1;32m   4067\u001b[0m     \u001b[0;32mfrom\u001b[0m \u001b[0mtensorflow\u001b[0m\u001b[0;34m.\u001b[0m\u001b[0mpython\u001b[0m\u001b[0;34m.\u001b[0m\u001b[0mkeras\u001b[0m \u001b[0;32mimport\u001b[0m \u001b[0mmodels\u001b[0m  \u001b[0;31m# pylint: disable=g-import-not-at-top\u001b[0m\u001b[0;34m\u001b[0m\u001b[0;34m\u001b[0m\u001b[0m\n\u001b[1;32m   4068\u001b[0m     \u001b[0;32mfrom\u001b[0m \u001b[0mtensorflow\u001b[0m\u001b[0;34m.\u001b[0m\u001b[0mpython\u001b[0m\u001b[0;34m.\u001b[0m\u001b[0mkeras\u001b[0m\u001b[0;34m.\u001b[0m\u001b[0mutils\u001b[0m \u001b[0;32mimport\u001b[0m \u001b[0mtf_utils\u001b[0m  \u001b[0;31m# pylint: disable=g-import-not-at-top\u001b[0m\u001b[0;34m\u001b[0m\u001b[0;34m\u001b[0m\u001b[0m\n\u001b[0;32m-> 4069\u001b[0;31m     \u001b[0mmodel\u001b[0m \u001b[0;34m=\u001b[0m \u001b[0mmodels\u001b[0m\u001b[0;34m.\u001b[0m\u001b[0mModel\u001b[0m\u001b[0;34m(\u001b[0m\u001b[0minputs\u001b[0m\u001b[0;34m=\u001b[0m\u001b[0minputs\u001b[0m\u001b[0;34m,\u001b[0m \u001b[0moutputs\u001b[0m\u001b[0;34m=\u001b[0m\u001b[0moutputs\u001b[0m\u001b[0;34m)\u001b[0m\u001b[0;34m\u001b[0m\u001b[0;34m\u001b[0m\u001b[0m\n\u001b[0m\u001b[1;32m   4070\u001b[0m \u001b[0;34m\u001b[0m\u001b[0m\n\u001b[1;32m   4071\u001b[0m     \u001b[0mwrap_outputs\u001b[0m \u001b[0;34m=\u001b[0m \u001b[0misinstance\u001b[0m\u001b[0;34m(\u001b[0m\u001b[0moutputs\u001b[0m\u001b[0;34m,\u001b[0m \u001b[0mlist\u001b[0m\u001b[0;34m)\u001b[0m \u001b[0;32mand\u001b[0m \u001b[0mlen\u001b[0m\u001b[0;34m(\u001b[0m\u001b[0moutputs\u001b[0m\u001b[0;34m)\u001b[0m \u001b[0;34m==\u001b[0m \u001b[0;36m1\u001b[0m\u001b[0;34m\u001b[0m\u001b[0;34m\u001b[0m\u001b[0m\n",
      "\u001b[0;32m/opt/conda/lib/python3.7/site-packages/tensorflow/python/training/tracking/base.py\u001b[0m in \u001b[0;36m_method_wrapper\u001b[0;34m(self, *args, **kwargs)\u001b[0m\n\u001b[1;32m    515\u001b[0m     \u001b[0mself\u001b[0m\u001b[0;34m.\u001b[0m\u001b[0m_self_setattr_tracking\u001b[0m \u001b[0;34m=\u001b[0m \u001b[0;32mFalse\u001b[0m  \u001b[0;31m# pylint: disable=protected-access\u001b[0m\u001b[0;34m\u001b[0m\u001b[0;34m\u001b[0m\u001b[0m\n\u001b[1;32m    516\u001b[0m     \u001b[0;32mtry\u001b[0m\u001b[0;34m:\u001b[0m\u001b[0;34m\u001b[0m\u001b[0;34m\u001b[0m\u001b[0m\n\u001b[0;32m--> 517\u001b[0;31m       \u001b[0mresult\u001b[0m \u001b[0;34m=\u001b[0m \u001b[0mmethod\u001b[0m\u001b[0;34m(\u001b[0m\u001b[0mself\u001b[0m\u001b[0;34m,\u001b[0m \u001b[0;34m*\u001b[0m\u001b[0margs\u001b[0m\u001b[0;34m,\u001b[0m \u001b[0;34m**\u001b[0m\u001b[0mkwargs\u001b[0m\u001b[0;34m)\u001b[0m\u001b[0;34m\u001b[0m\u001b[0;34m\u001b[0m\u001b[0m\n\u001b[0m\u001b[1;32m    518\u001b[0m     \u001b[0;32mfinally\u001b[0m\u001b[0;34m:\u001b[0m\u001b[0;34m\u001b[0m\u001b[0;34m\u001b[0m\u001b[0m\n\u001b[1;32m    519\u001b[0m       \u001b[0mself\u001b[0m\u001b[0;34m.\u001b[0m\u001b[0m_self_setattr_tracking\u001b[0m \u001b[0;34m=\u001b[0m \u001b[0mprevious_value\u001b[0m  \u001b[0;31m# pylint: disable=protected-access\u001b[0m\u001b[0;34m\u001b[0m\u001b[0;34m\u001b[0m\u001b[0m\n",
      "\u001b[0;32m/opt/conda/lib/python3.7/site-packages/tensorflow/python/keras/engine/functional.py\u001b[0m in \u001b[0;36m__init__\u001b[0;34m(self, inputs, outputs, name, trainable, **kwargs)\u001b[0m\n\u001b[1;32m    118\u001b[0m     \u001b[0mgeneric_utils\u001b[0m\u001b[0;34m.\u001b[0m\u001b[0mvalidate_kwargs\u001b[0m\u001b[0;34m(\u001b[0m\u001b[0mkwargs\u001b[0m\u001b[0;34m,\u001b[0m \u001b[0;34m{\u001b[0m\u001b[0;34m}\u001b[0m\u001b[0;34m)\u001b[0m\u001b[0;34m\u001b[0m\u001b[0;34m\u001b[0m\u001b[0m\n\u001b[1;32m    119\u001b[0m     \u001b[0msuper\u001b[0m\u001b[0;34m(\u001b[0m\u001b[0mFunctional\u001b[0m\u001b[0;34m,\u001b[0m \u001b[0mself\u001b[0m\u001b[0;34m)\u001b[0m\u001b[0;34m.\u001b[0m\u001b[0m__init__\u001b[0m\u001b[0;34m(\u001b[0m\u001b[0mname\u001b[0m\u001b[0;34m=\u001b[0m\u001b[0mname\u001b[0m\u001b[0;34m,\u001b[0m \u001b[0mtrainable\u001b[0m\u001b[0;34m=\u001b[0m\u001b[0mtrainable\u001b[0m\u001b[0;34m)\u001b[0m\u001b[0;34m\u001b[0m\u001b[0;34m\u001b[0m\u001b[0m\n\u001b[0;32m--> 120\u001b[0;31m     \u001b[0mself\u001b[0m\u001b[0;34m.\u001b[0m\u001b[0m_init_graph_network\u001b[0m\u001b[0;34m(\u001b[0m\u001b[0minputs\u001b[0m\u001b[0;34m,\u001b[0m \u001b[0moutputs\u001b[0m\u001b[0;34m)\u001b[0m\u001b[0;34m\u001b[0m\u001b[0;34m\u001b[0m\u001b[0m\n\u001b[0m\u001b[1;32m    121\u001b[0m \u001b[0;34m\u001b[0m\u001b[0m\n\u001b[1;32m    122\u001b[0m   \u001b[0;34m@\u001b[0m\u001b[0mtrackable\u001b[0m\u001b[0;34m.\u001b[0m\u001b[0mno_automatic_dependency_tracking\u001b[0m\u001b[0;34m\u001b[0m\u001b[0;34m\u001b[0m\u001b[0m\n",
      "\u001b[0;32m/opt/conda/lib/python3.7/site-packages/tensorflow/python/training/tracking/base.py\u001b[0m in \u001b[0;36m_method_wrapper\u001b[0;34m(self, *args, **kwargs)\u001b[0m\n\u001b[1;32m    515\u001b[0m     \u001b[0mself\u001b[0m\u001b[0;34m.\u001b[0m\u001b[0m_self_setattr_tracking\u001b[0m \u001b[0;34m=\u001b[0m \u001b[0;32mFalse\u001b[0m  \u001b[0;31m# pylint: disable=protected-access\u001b[0m\u001b[0;34m\u001b[0m\u001b[0;34m\u001b[0m\u001b[0m\n\u001b[1;32m    516\u001b[0m     \u001b[0;32mtry\u001b[0m\u001b[0;34m:\u001b[0m\u001b[0;34m\u001b[0m\u001b[0;34m\u001b[0m\u001b[0m\n\u001b[0;32m--> 517\u001b[0;31m       \u001b[0mresult\u001b[0m \u001b[0;34m=\u001b[0m \u001b[0mmethod\u001b[0m\u001b[0;34m(\u001b[0m\u001b[0mself\u001b[0m\u001b[0;34m,\u001b[0m \u001b[0;34m*\u001b[0m\u001b[0margs\u001b[0m\u001b[0;34m,\u001b[0m \u001b[0;34m**\u001b[0m\u001b[0mkwargs\u001b[0m\u001b[0;34m)\u001b[0m\u001b[0;34m\u001b[0m\u001b[0;34m\u001b[0m\u001b[0m\n\u001b[0m\u001b[1;32m    518\u001b[0m     \u001b[0;32mfinally\u001b[0m\u001b[0;34m:\u001b[0m\u001b[0;34m\u001b[0m\u001b[0;34m\u001b[0m\u001b[0m\n\u001b[1;32m    519\u001b[0m       \u001b[0mself\u001b[0m\u001b[0;34m.\u001b[0m\u001b[0m_self_setattr_tracking\u001b[0m \u001b[0;34m=\u001b[0m \u001b[0mprevious_value\u001b[0m  \u001b[0;31m# pylint: disable=protected-access\u001b[0m\u001b[0;34m\u001b[0m\u001b[0;34m\u001b[0m\u001b[0m\n",
      "\u001b[0;32m/opt/conda/lib/python3.7/site-packages/tensorflow/python/keras/engine/functional.py\u001b[0m in \u001b[0;36m_init_graph_network\u001b[0;34m(self, inputs, outputs)\u001b[0m\n\u001b[1;32m    155\u001b[0m         \u001b[0mbase_layer_utils\u001b[0m\u001b[0;34m.\u001b[0m\u001b[0mcreate_keras_history\u001b[0m\u001b[0;34m(\u001b[0m\u001b[0mself\u001b[0m\u001b[0;34m.\u001b[0m\u001b[0m_nested_outputs\u001b[0m\u001b[0;34m)\u001b[0m\u001b[0;34m\u001b[0m\u001b[0;34m\u001b[0m\u001b[0m\n\u001b[1;32m    156\u001b[0m \u001b[0;34m\u001b[0m\u001b[0m\n\u001b[0;32m--> 157\u001b[0;31m     \u001b[0mself\u001b[0m\u001b[0;34m.\u001b[0m\u001b[0m_validate_graph_inputs_and_outputs\u001b[0m\u001b[0;34m(\u001b[0m\u001b[0;34m)\u001b[0m\u001b[0;34m\u001b[0m\u001b[0;34m\u001b[0m\u001b[0m\n\u001b[0m\u001b[1;32m    158\u001b[0m \u001b[0;34m\u001b[0m\u001b[0m\n\u001b[1;32m    159\u001b[0m     \u001b[0;31m# A Network does not create weights of its own, thus it is already\u001b[0m\u001b[0;34m\u001b[0m\u001b[0;34m\u001b[0m\u001b[0;34m\u001b[0m\u001b[0m\n",
      "\u001b[0;32m/opt/conda/lib/python3.7/site-packages/tensorflow/python/keras/engine/functional.py\u001b[0m in \u001b[0;36m_validate_graph_inputs_and_outputs\u001b[0;34m(self)\u001b[0m\n\u001b[1;32m    689\u001b[0m                          \u001b[0;34m'must come from `tf.keras.Input`. '\u001b[0m\u001b[0;34m\u001b[0m\u001b[0;34m\u001b[0m\u001b[0m\n\u001b[1;32m    690\u001b[0m                          \u001b[0;34m'Received: '\u001b[0m \u001b[0;34m+\u001b[0m \u001b[0mstr\u001b[0m\u001b[0;34m(\u001b[0m\u001b[0mx\u001b[0m\u001b[0;34m)\u001b[0m \u001b[0;34m+\u001b[0m\u001b[0;34m\u001b[0m\u001b[0;34m\u001b[0m\u001b[0m\n\u001b[0;32m--> 691\u001b[0;31m                          ' (missing previous layer metadata).')\n\u001b[0m\u001b[1;32m    692\u001b[0m       \u001b[0;31m# Check that x is an input tensor.\u001b[0m\u001b[0;34m\u001b[0m\u001b[0;34m\u001b[0m\u001b[0;34m\u001b[0m\u001b[0m\n\u001b[1;32m    693\u001b[0m       \u001b[0;31m# pylint: disable=protected-access\u001b[0m\u001b[0;34m\u001b[0m\u001b[0;34m\u001b[0m\u001b[0;34m\u001b[0m\u001b[0m\n",
      "\u001b[0;31mValueError\u001b[0m: Input tensors to a Functional must come from `tf.keras.Input`. Received: 0 (missing previous layer metadata)."
     ]
    }
   ],
   "source": [
    "visualize(convLayer02) # visualize second set of feature maps"
   ]
  },
  {
   "cell_type": "code",
   "execution_count": 36,
   "id": "handmade-favor",
   "metadata": {
    "execution": {
     "iopub.execute_input": "2021-04-29T04:19:34.169163Z",
     "iopub.status.busy": "2021-04-29T04:19:34.168082Z",
     "iopub.status.idle": "2021-04-29T04:19:34.207475Z",
     "shell.execute_reply": "2021-04-29T04:19:34.208106Z"
    },
    "id": "p90pMYcnoZHz",
    "papermill": {
     "duration": 0.90191,
     "end_time": "2021-04-29T04:19:34.208279",
     "exception": false,
     "start_time": "2021-04-29T04:19:33.306369",
     "status": "completed"
    },
    "tags": []
   },
   "outputs": [
    {
     "ename": "ValueError",
     "evalue": "Input tensors to a Functional must come from `tf.keras.Input`. Received: 0 (missing previous layer metadata).",
     "output_type": "error",
     "traceback": [
      "\u001b[0;31m---------------------------------------------------------------------------\u001b[0m",
      "\u001b[0;31mValueError\u001b[0m                                Traceback (most recent call last)",
      "\u001b[0;32m<ipython-input-36-5e9aa6ad8b88>\u001b[0m in \u001b[0;36m<module>\u001b[0;34m\u001b[0m\n\u001b[0;32m----> 1\u001b[0;31m \u001b[0mvisualize\u001b[0m\u001b[0;34m(\u001b[0m\u001b[0mconvLayer03\u001b[0m\u001b[0;34m)\u001b[0m\u001b[0;31m# visualize third set of feature maps\u001b[0m\u001b[0;34m\u001b[0m\u001b[0;34m\u001b[0m\u001b[0m\n\u001b[0m",
      "\u001b[0;32m<ipython-input-32-454b785c5aae>\u001b[0m in \u001b[0;36mvisualize\u001b[0;34m(layer)\u001b[0m\n\u001b[1;32m     10\u001b[0m     \u001b[0minputs\u001b[0m \u001b[0;34m=\u001b[0m \u001b[0;34m[\u001b[0m\u001b[0mK\u001b[0m\u001b[0;34m.\u001b[0m\u001b[0mlearning_phase\u001b[0m\u001b[0;34m(\u001b[0m\u001b[0;34m)\u001b[0m\u001b[0;34m]\u001b[0m \u001b[0;34m+\u001b[0m \u001b[0mmodel\u001b[0m\u001b[0;34m.\u001b[0m\u001b[0minputs\u001b[0m\u001b[0;34m\u001b[0m\u001b[0;34m\u001b[0m\u001b[0m\n\u001b[1;32m     11\u001b[0m \u001b[0;34m\u001b[0m\u001b[0m\n\u001b[0;32m---> 12\u001b[0;31m     \u001b[0m_convout1_f\u001b[0m \u001b[0;34m=\u001b[0m \u001b[0mK\u001b[0m\u001b[0;34m.\u001b[0m\u001b[0mfunction\u001b[0m\u001b[0;34m(\u001b[0m\u001b[0minputs\u001b[0m\u001b[0;34m,\u001b[0m \u001b[0;34m[\u001b[0m\u001b[0mlayer\u001b[0m\u001b[0;34m.\u001b[0m\u001b[0moutput\u001b[0m\u001b[0;34m]\u001b[0m\u001b[0;34m)\u001b[0m\u001b[0;34m\u001b[0m\u001b[0;34m\u001b[0m\u001b[0m\n\u001b[0m\u001b[1;32m     13\u001b[0m \u001b[0;34m\u001b[0m\u001b[0m\n\u001b[1;32m     14\u001b[0m     \u001b[0;32mdef\u001b[0m \u001b[0mconvout1_f\u001b[0m\u001b[0;34m(\u001b[0m\u001b[0mX\u001b[0m\u001b[0;34m)\u001b[0m\u001b[0;34m:\u001b[0m\u001b[0;34m\u001b[0m\u001b[0;34m\u001b[0m\u001b[0m\n",
      "\u001b[0;32m/opt/conda/lib/python3.7/site-packages/tensorflow/python/keras/backend.py\u001b[0m in \u001b[0;36mfunction\u001b[0;34m(inputs, outputs, updates, name, **kwargs)\u001b[0m\n\u001b[1;32m   4067\u001b[0m     \u001b[0;32mfrom\u001b[0m \u001b[0mtensorflow\u001b[0m\u001b[0;34m.\u001b[0m\u001b[0mpython\u001b[0m\u001b[0;34m.\u001b[0m\u001b[0mkeras\u001b[0m \u001b[0;32mimport\u001b[0m \u001b[0mmodels\u001b[0m  \u001b[0;31m# pylint: disable=g-import-not-at-top\u001b[0m\u001b[0;34m\u001b[0m\u001b[0;34m\u001b[0m\u001b[0m\n\u001b[1;32m   4068\u001b[0m     \u001b[0;32mfrom\u001b[0m \u001b[0mtensorflow\u001b[0m\u001b[0;34m.\u001b[0m\u001b[0mpython\u001b[0m\u001b[0;34m.\u001b[0m\u001b[0mkeras\u001b[0m\u001b[0;34m.\u001b[0m\u001b[0mutils\u001b[0m \u001b[0;32mimport\u001b[0m \u001b[0mtf_utils\u001b[0m  \u001b[0;31m# pylint: disable=g-import-not-at-top\u001b[0m\u001b[0;34m\u001b[0m\u001b[0;34m\u001b[0m\u001b[0m\n\u001b[0;32m-> 4069\u001b[0;31m     \u001b[0mmodel\u001b[0m \u001b[0;34m=\u001b[0m \u001b[0mmodels\u001b[0m\u001b[0;34m.\u001b[0m\u001b[0mModel\u001b[0m\u001b[0;34m(\u001b[0m\u001b[0minputs\u001b[0m\u001b[0;34m=\u001b[0m\u001b[0minputs\u001b[0m\u001b[0;34m,\u001b[0m \u001b[0moutputs\u001b[0m\u001b[0;34m=\u001b[0m\u001b[0moutputs\u001b[0m\u001b[0;34m)\u001b[0m\u001b[0;34m\u001b[0m\u001b[0;34m\u001b[0m\u001b[0m\n\u001b[0m\u001b[1;32m   4070\u001b[0m \u001b[0;34m\u001b[0m\u001b[0m\n\u001b[1;32m   4071\u001b[0m     \u001b[0mwrap_outputs\u001b[0m \u001b[0;34m=\u001b[0m \u001b[0misinstance\u001b[0m\u001b[0;34m(\u001b[0m\u001b[0moutputs\u001b[0m\u001b[0;34m,\u001b[0m \u001b[0mlist\u001b[0m\u001b[0;34m)\u001b[0m \u001b[0;32mand\u001b[0m \u001b[0mlen\u001b[0m\u001b[0;34m(\u001b[0m\u001b[0moutputs\u001b[0m\u001b[0;34m)\u001b[0m \u001b[0;34m==\u001b[0m \u001b[0;36m1\u001b[0m\u001b[0;34m\u001b[0m\u001b[0;34m\u001b[0m\u001b[0m\n",
      "\u001b[0;32m/opt/conda/lib/python3.7/site-packages/tensorflow/python/training/tracking/base.py\u001b[0m in \u001b[0;36m_method_wrapper\u001b[0;34m(self, *args, **kwargs)\u001b[0m\n\u001b[1;32m    515\u001b[0m     \u001b[0mself\u001b[0m\u001b[0;34m.\u001b[0m\u001b[0m_self_setattr_tracking\u001b[0m \u001b[0;34m=\u001b[0m \u001b[0;32mFalse\u001b[0m  \u001b[0;31m# pylint: disable=protected-access\u001b[0m\u001b[0;34m\u001b[0m\u001b[0;34m\u001b[0m\u001b[0m\n\u001b[1;32m    516\u001b[0m     \u001b[0;32mtry\u001b[0m\u001b[0;34m:\u001b[0m\u001b[0;34m\u001b[0m\u001b[0;34m\u001b[0m\u001b[0m\n\u001b[0;32m--> 517\u001b[0;31m       \u001b[0mresult\u001b[0m \u001b[0;34m=\u001b[0m \u001b[0mmethod\u001b[0m\u001b[0;34m(\u001b[0m\u001b[0mself\u001b[0m\u001b[0;34m,\u001b[0m \u001b[0;34m*\u001b[0m\u001b[0margs\u001b[0m\u001b[0;34m,\u001b[0m \u001b[0;34m**\u001b[0m\u001b[0mkwargs\u001b[0m\u001b[0;34m)\u001b[0m\u001b[0;34m\u001b[0m\u001b[0;34m\u001b[0m\u001b[0m\n\u001b[0m\u001b[1;32m    518\u001b[0m     \u001b[0;32mfinally\u001b[0m\u001b[0;34m:\u001b[0m\u001b[0;34m\u001b[0m\u001b[0;34m\u001b[0m\u001b[0m\n\u001b[1;32m    519\u001b[0m       \u001b[0mself\u001b[0m\u001b[0;34m.\u001b[0m\u001b[0m_self_setattr_tracking\u001b[0m \u001b[0;34m=\u001b[0m \u001b[0mprevious_value\u001b[0m  \u001b[0;31m# pylint: disable=protected-access\u001b[0m\u001b[0;34m\u001b[0m\u001b[0;34m\u001b[0m\u001b[0m\n",
      "\u001b[0;32m/opt/conda/lib/python3.7/site-packages/tensorflow/python/keras/engine/functional.py\u001b[0m in \u001b[0;36m__init__\u001b[0;34m(self, inputs, outputs, name, trainable, **kwargs)\u001b[0m\n\u001b[1;32m    118\u001b[0m     \u001b[0mgeneric_utils\u001b[0m\u001b[0;34m.\u001b[0m\u001b[0mvalidate_kwargs\u001b[0m\u001b[0;34m(\u001b[0m\u001b[0mkwargs\u001b[0m\u001b[0;34m,\u001b[0m \u001b[0;34m{\u001b[0m\u001b[0;34m}\u001b[0m\u001b[0;34m)\u001b[0m\u001b[0;34m\u001b[0m\u001b[0;34m\u001b[0m\u001b[0m\n\u001b[1;32m    119\u001b[0m     \u001b[0msuper\u001b[0m\u001b[0;34m(\u001b[0m\u001b[0mFunctional\u001b[0m\u001b[0;34m,\u001b[0m \u001b[0mself\u001b[0m\u001b[0;34m)\u001b[0m\u001b[0;34m.\u001b[0m\u001b[0m__init__\u001b[0m\u001b[0;34m(\u001b[0m\u001b[0mname\u001b[0m\u001b[0;34m=\u001b[0m\u001b[0mname\u001b[0m\u001b[0;34m,\u001b[0m \u001b[0mtrainable\u001b[0m\u001b[0;34m=\u001b[0m\u001b[0mtrainable\u001b[0m\u001b[0;34m)\u001b[0m\u001b[0;34m\u001b[0m\u001b[0;34m\u001b[0m\u001b[0m\n\u001b[0;32m--> 120\u001b[0;31m     \u001b[0mself\u001b[0m\u001b[0;34m.\u001b[0m\u001b[0m_init_graph_network\u001b[0m\u001b[0;34m(\u001b[0m\u001b[0minputs\u001b[0m\u001b[0;34m,\u001b[0m \u001b[0moutputs\u001b[0m\u001b[0;34m)\u001b[0m\u001b[0;34m\u001b[0m\u001b[0;34m\u001b[0m\u001b[0m\n\u001b[0m\u001b[1;32m    121\u001b[0m \u001b[0;34m\u001b[0m\u001b[0m\n\u001b[1;32m    122\u001b[0m   \u001b[0;34m@\u001b[0m\u001b[0mtrackable\u001b[0m\u001b[0;34m.\u001b[0m\u001b[0mno_automatic_dependency_tracking\u001b[0m\u001b[0;34m\u001b[0m\u001b[0;34m\u001b[0m\u001b[0m\n",
      "\u001b[0;32m/opt/conda/lib/python3.7/site-packages/tensorflow/python/training/tracking/base.py\u001b[0m in \u001b[0;36m_method_wrapper\u001b[0;34m(self, *args, **kwargs)\u001b[0m\n\u001b[1;32m    515\u001b[0m     \u001b[0mself\u001b[0m\u001b[0;34m.\u001b[0m\u001b[0m_self_setattr_tracking\u001b[0m \u001b[0;34m=\u001b[0m \u001b[0;32mFalse\u001b[0m  \u001b[0;31m# pylint: disable=protected-access\u001b[0m\u001b[0;34m\u001b[0m\u001b[0;34m\u001b[0m\u001b[0m\n\u001b[1;32m    516\u001b[0m     \u001b[0;32mtry\u001b[0m\u001b[0;34m:\u001b[0m\u001b[0;34m\u001b[0m\u001b[0;34m\u001b[0m\u001b[0m\n\u001b[0;32m--> 517\u001b[0;31m       \u001b[0mresult\u001b[0m \u001b[0;34m=\u001b[0m \u001b[0mmethod\u001b[0m\u001b[0;34m(\u001b[0m\u001b[0mself\u001b[0m\u001b[0;34m,\u001b[0m \u001b[0;34m*\u001b[0m\u001b[0margs\u001b[0m\u001b[0;34m,\u001b[0m \u001b[0;34m**\u001b[0m\u001b[0mkwargs\u001b[0m\u001b[0;34m)\u001b[0m\u001b[0;34m\u001b[0m\u001b[0;34m\u001b[0m\u001b[0m\n\u001b[0m\u001b[1;32m    518\u001b[0m     \u001b[0;32mfinally\u001b[0m\u001b[0;34m:\u001b[0m\u001b[0;34m\u001b[0m\u001b[0;34m\u001b[0m\u001b[0m\n\u001b[1;32m    519\u001b[0m       \u001b[0mself\u001b[0m\u001b[0;34m.\u001b[0m\u001b[0m_self_setattr_tracking\u001b[0m \u001b[0;34m=\u001b[0m \u001b[0mprevious_value\u001b[0m  \u001b[0;31m# pylint: disable=protected-access\u001b[0m\u001b[0;34m\u001b[0m\u001b[0;34m\u001b[0m\u001b[0m\n",
      "\u001b[0;32m/opt/conda/lib/python3.7/site-packages/tensorflow/python/keras/engine/functional.py\u001b[0m in \u001b[0;36m_init_graph_network\u001b[0;34m(self, inputs, outputs)\u001b[0m\n\u001b[1;32m    155\u001b[0m         \u001b[0mbase_layer_utils\u001b[0m\u001b[0;34m.\u001b[0m\u001b[0mcreate_keras_history\u001b[0m\u001b[0;34m(\u001b[0m\u001b[0mself\u001b[0m\u001b[0;34m.\u001b[0m\u001b[0m_nested_outputs\u001b[0m\u001b[0;34m)\u001b[0m\u001b[0;34m\u001b[0m\u001b[0;34m\u001b[0m\u001b[0m\n\u001b[1;32m    156\u001b[0m \u001b[0;34m\u001b[0m\u001b[0m\n\u001b[0;32m--> 157\u001b[0;31m     \u001b[0mself\u001b[0m\u001b[0;34m.\u001b[0m\u001b[0m_validate_graph_inputs_and_outputs\u001b[0m\u001b[0;34m(\u001b[0m\u001b[0;34m)\u001b[0m\u001b[0;34m\u001b[0m\u001b[0;34m\u001b[0m\u001b[0m\n\u001b[0m\u001b[1;32m    158\u001b[0m \u001b[0;34m\u001b[0m\u001b[0m\n\u001b[1;32m    159\u001b[0m     \u001b[0;31m# A Network does not create weights of its own, thus it is already\u001b[0m\u001b[0;34m\u001b[0m\u001b[0;34m\u001b[0m\u001b[0;34m\u001b[0m\u001b[0m\n",
      "\u001b[0;32m/opt/conda/lib/python3.7/site-packages/tensorflow/python/keras/engine/functional.py\u001b[0m in \u001b[0;36m_validate_graph_inputs_and_outputs\u001b[0;34m(self)\u001b[0m\n\u001b[1;32m    689\u001b[0m                          \u001b[0;34m'must come from `tf.keras.Input`. '\u001b[0m\u001b[0;34m\u001b[0m\u001b[0;34m\u001b[0m\u001b[0m\n\u001b[1;32m    690\u001b[0m                          \u001b[0;34m'Received: '\u001b[0m \u001b[0;34m+\u001b[0m \u001b[0mstr\u001b[0m\u001b[0;34m(\u001b[0m\u001b[0mx\u001b[0m\u001b[0;34m)\u001b[0m \u001b[0;34m+\u001b[0m\u001b[0;34m\u001b[0m\u001b[0;34m\u001b[0m\u001b[0m\n\u001b[0;32m--> 691\u001b[0;31m                          ' (missing previous layer metadata).')\n\u001b[0m\u001b[1;32m    692\u001b[0m       \u001b[0;31m# Check that x is an input tensor.\u001b[0m\u001b[0;34m\u001b[0m\u001b[0;34m\u001b[0m\u001b[0;34m\u001b[0m\u001b[0m\n\u001b[1;32m    693\u001b[0m       \u001b[0;31m# pylint: disable=protected-access\u001b[0m\u001b[0;34m\u001b[0m\u001b[0;34m\u001b[0m\u001b[0;34m\u001b[0m\u001b[0m\n",
      "\u001b[0;31mValueError\u001b[0m: Input tensors to a Functional must come from `tf.keras.Input`. Received: 0 (missing previous layer metadata)."
     ]
    }
   ],
   "source": [
    "visualize(convLayer03)# visualize third set of feature maps"
   ]
  },
  {
   "cell_type": "code",
   "execution_count": 37,
   "id": "popular-birth",
   "metadata": {
    "execution": {
     "iopub.execute_input": "2021-04-29T04:19:35.929700Z",
     "iopub.status.busy": "2021-04-29T04:19:35.928491Z",
     "iopub.status.idle": "2021-04-29T04:19:35.968206Z",
     "shell.execute_reply": "2021-04-29T04:19:35.968984Z"
    },
    "id": "BtWs3x5ToZHz",
    "papermill": {
     "duration": 0.907818,
     "end_time": "2021-04-29T04:19:35.969175",
     "exception": false,
     "start_time": "2021-04-29T04:19:35.061357",
     "status": "completed"
    },
    "tags": []
   },
   "outputs": [
    {
     "ename": "ValueError",
     "evalue": "Input tensors to a Functional must come from `tf.keras.Input`. Received: 0 (missing previous layer metadata).",
     "output_type": "error",
     "traceback": [
      "\u001b[0;31m---------------------------------------------------------------------------\u001b[0m",
      "\u001b[0;31mValueError\u001b[0m                                Traceback (most recent call last)",
      "\u001b[0;32m<ipython-input-37-b94e8d26c675>\u001b[0m in \u001b[0;36m<module>\u001b[0;34m\u001b[0m\n\u001b[0;32m----> 1\u001b[0;31m \u001b[0mvisualize\u001b[0m\u001b[0;34m(\u001b[0m\u001b[0mconvLayer04\u001b[0m\u001b[0;34m)\u001b[0m\u001b[0;31m# visualize fourth set of feature maps\u001b[0m\u001b[0;34m\u001b[0m\u001b[0;34m\u001b[0m\u001b[0m\n\u001b[0m",
      "\u001b[0;32m<ipython-input-32-454b785c5aae>\u001b[0m in \u001b[0;36mvisualize\u001b[0;34m(layer)\u001b[0m\n\u001b[1;32m     10\u001b[0m     \u001b[0minputs\u001b[0m \u001b[0;34m=\u001b[0m \u001b[0;34m[\u001b[0m\u001b[0mK\u001b[0m\u001b[0;34m.\u001b[0m\u001b[0mlearning_phase\u001b[0m\u001b[0;34m(\u001b[0m\u001b[0;34m)\u001b[0m\u001b[0;34m]\u001b[0m \u001b[0;34m+\u001b[0m \u001b[0mmodel\u001b[0m\u001b[0;34m.\u001b[0m\u001b[0minputs\u001b[0m\u001b[0;34m\u001b[0m\u001b[0;34m\u001b[0m\u001b[0m\n\u001b[1;32m     11\u001b[0m \u001b[0;34m\u001b[0m\u001b[0m\n\u001b[0;32m---> 12\u001b[0;31m     \u001b[0m_convout1_f\u001b[0m \u001b[0;34m=\u001b[0m \u001b[0mK\u001b[0m\u001b[0;34m.\u001b[0m\u001b[0mfunction\u001b[0m\u001b[0;34m(\u001b[0m\u001b[0minputs\u001b[0m\u001b[0;34m,\u001b[0m \u001b[0;34m[\u001b[0m\u001b[0mlayer\u001b[0m\u001b[0;34m.\u001b[0m\u001b[0moutput\u001b[0m\u001b[0;34m]\u001b[0m\u001b[0;34m)\u001b[0m\u001b[0;34m\u001b[0m\u001b[0;34m\u001b[0m\u001b[0m\n\u001b[0m\u001b[1;32m     13\u001b[0m \u001b[0;34m\u001b[0m\u001b[0m\n\u001b[1;32m     14\u001b[0m     \u001b[0;32mdef\u001b[0m \u001b[0mconvout1_f\u001b[0m\u001b[0;34m(\u001b[0m\u001b[0mX\u001b[0m\u001b[0;34m)\u001b[0m\u001b[0;34m:\u001b[0m\u001b[0;34m\u001b[0m\u001b[0;34m\u001b[0m\u001b[0m\n",
      "\u001b[0;32m/opt/conda/lib/python3.7/site-packages/tensorflow/python/keras/backend.py\u001b[0m in \u001b[0;36mfunction\u001b[0;34m(inputs, outputs, updates, name, **kwargs)\u001b[0m\n\u001b[1;32m   4067\u001b[0m     \u001b[0;32mfrom\u001b[0m \u001b[0mtensorflow\u001b[0m\u001b[0;34m.\u001b[0m\u001b[0mpython\u001b[0m\u001b[0;34m.\u001b[0m\u001b[0mkeras\u001b[0m \u001b[0;32mimport\u001b[0m \u001b[0mmodels\u001b[0m  \u001b[0;31m# pylint: disable=g-import-not-at-top\u001b[0m\u001b[0;34m\u001b[0m\u001b[0;34m\u001b[0m\u001b[0m\n\u001b[1;32m   4068\u001b[0m     \u001b[0;32mfrom\u001b[0m \u001b[0mtensorflow\u001b[0m\u001b[0;34m.\u001b[0m\u001b[0mpython\u001b[0m\u001b[0;34m.\u001b[0m\u001b[0mkeras\u001b[0m\u001b[0;34m.\u001b[0m\u001b[0mutils\u001b[0m \u001b[0;32mimport\u001b[0m \u001b[0mtf_utils\u001b[0m  \u001b[0;31m# pylint: disable=g-import-not-at-top\u001b[0m\u001b[0;34m\u001b[0m\u001b[0;34m\u001b[0m\u001b[0m\n\u001b[0;32m-> 4069\u001b[0;31m     \u001b[0mmodel\u001b[0m \u001b[0;34m=\u001b[0m \u001b[0mmodels\u001b[0m\u001b[0;34m.\u001b[0m\u001b[0mModel\u001b[0m\u001b[0;34m(\u001b[0m\u001b[0minputs\u001b[0m\u001b[0;34m=\u001b[0m\u001b[0minputs\u001b[0m\u001b[0;34m,\u001b[0m \u001b[0moutputs\u001b[0m\u001b[0;34m=\u001b[0m\u001b[0moutputs\u001b[0m\u001b[0;34m)\u001b[0m\u001b[0;34m\u001b[0m\u001b[0;34m\u001b[0m\u001b[0m\n\u001b[0m\u001b[1;32m   4070\u001b[0m \u001b[0;34m\u001b[0m\u001b[0m\n\u001b[1;32m   4071\u001b[0m     \u001b[0mwrap_outputs\u001b[0m \u001b[0;34m=\u001b[0m \u001b[0misinstance\u001b[0m\u001b[0;34m(\u001b[0m\u001b[0moutputs\u001b[0m\u001b[0;34m,\u001b[0m \u001b[0mlist\u001b[0m\u001b[0;34m)\u001b[0m \u001b[0;32mand\u001b[0m \u001b[0mlen\u001b[0m\u001b[0;34m(\u001b[0m\u001b[0moutputs\u001b[0m\u001b[0;34m)\u001b[0m \u001b[0;34m==\u001b[0m \u001b[0;36m1\u001b[0m\u001b[0;34m\u001b[0m\u001b[0;34m\u001b[0m\u001b[0m\n",
      "\u001b[0;32m/opt/conda/lib/python3.7/site-packages/tensorflow/python/training/tracking/base.py\u001b[0m in \u001b[0;36m_method_wrapper\u001b[0;34m(self, *args, **kwargs)\u001b[0m\n\u001b[1;32m    515\u001b[0m     \u001b[0mself\u001b[0m\u001b[0;34m.\u001b[0m\u001b[0m_self_setattr_tracking\u001b[0m \u001b[0;34m=\u001b[0m \u001b[0;32mFalse\u001b[0m  \u001b[0;31m# pylint: disable=protected-access\u001b[0m\u001b[0;34m\u001b[0m\u001b[0;34m\u001b[0m\u001b[0m\n\u001b[1;32m    516\u001b[0m     \u001b[0;32mtry\u001b[0m\u001b[0;34m:\u001b[0m\u001b[0;34m\u001b[0m\u001b[0;34m\u001b[0m\u001b[0m\n\u001b[0;32m--> 517\u001b[0;31m       \u001b[0mresult\u001b[0m \u001b[0;34m=\u001b[0m \u001b[0mmethod\u001b[0m\u001b[0;34m(\u001b[0m\u001b[0mself\u001b[0m\u001b[0;34m,\u001b[0m \u001b[0;34m*\u001b[0m\u001b[0margs\u001b[0m\u001b[0;34m,\u001b[0m \u001b[0;34m**\u001b[0m\u001b[0mkwargs\u001b[0m\u001b[0;34m)\u001b[0m\u001b[0;34m\u001b[0m\u001b[0;34m\u001b[0m\u001b[0m\n\u001b[0m\u001b[1;32m    518\u001b[0m     \u001b[0;32mfinally\u001b[0m\u001b[0;34m:\u001b[0m\u001b[0;34m\u001b[0m\u001b[0;34m\u001b[0m\u001b[0m\n\u001b[1;32m    519\u001b[0m       \u001b[0mself\u001b[0m\u001b[0;34m.\u001b[0m\u001b[0m_self_setattr_tracking\u001b[0m \u001b[0;34m=\u001b[0m \u001b[0mprevious_value\u001b[0m  \u001b[0;31m# pylint: disable=protected-access\u001b[0m\u001b[0;34m\u001b[0m\u001b[0;34m\u001b[0m\u001b[0m\n",
      "\u001b[0;32m/opt/conda/lib/python3.7/site-packages/tensorflow/python/keras/engine/functional.py\u001b[0m in \u001b[0;36m__init__\u001b[0;34m(self, inputs, outputs, name, trainable, **kwargs)\u001b[0m\n\u001b[1;32m    118\u001b[0m     \u001b[0mgeneric_utils\u001b[0m\u001b[0;34m.\u001b[0m\u001b[0mvalidate_kwargs\u001b[0m\u001b[0;34m(\u001b[0m\u001b[0mkwargs\u001b[0m\u001b[0;34m,\u001b[0m \u001b[0;34m{\u001b[0m\u001b[0;34m}\u001b[0m\u001b[0;34m)\u001b[0m\u001b[0;34m\u001b[0m\u001b[0;34m\u001b[0m\u001b[0m\n\u001b[1;32m    119\u001b[0m     \u001b[0msuper\u001b[0m\u001b[0;34m(\u001b[0m\u001b[0mFunctional\u001b[0m\u001b[0;34m,\u001b[0m \u001b[0mself\u001b[0m\u001b[0;34m)\u001b[0m\u001b[0;34m.\u001b[0m\u001b[0m__init__\u001b[0m\u001b[0;34m(\u001b[0m\u001b[0mname\u001b[0m\u001b[0;34m=\u001b[0m\u001b[0mname\u001b[0m\u001b[0;34m,\u001b[0m \u001b[0mtrainable\u001b[0m\u001b[0;34m=\u001b[0m\u001b[0mtrainable\u001b[0m\u001b[0;34m)\u001b[0m\u001b[0;34m\u001b[0m\u001b[0;34m\u001b[0m\u001b[0m\n\u001b[0;32m--> 120\u001b[0;31m     \u001b[0mself\u001b[0m\u001b[0;34m.\u001b[0m\u001b[0m_init_graph_network\u001b[0m\u001b[0;34m(\u001b[0m\u001b[0minputs\u001b[0m\u001b[0;34m,\u001b[0m \u001b[0moutputs\u001b[0m\u001b[0;34m)\u001b[0m\u001b[0;34m\u001b[0m\u001b[0;34m\u001b[0m\u001b[0m\n\u001b[0m\u001b[1;32m    121\u001b[0m \u001b[0;34m\u001b[0m\u001b[0m\n\u001b[1;32m    122\u001b[0m   \u001b[0;34m@\u001b[0m\u001b[0mtrackable\u001b[0m\u001b[0;34m.\u001b[0m\u001b[0mno_automatic_dependency_tracking\u001b[0m\u001b[0;34m\u001b[0m\u001b[0;34m\u001b[0m\u001b[0m\n",
      "\u001b[0;32m/opt/conda/lib/python3.7/site-packages/tensorflow/python/training/tracking/base.py\u001b[0m in \u001b[0;36m_method_wrapper\u001b[0;34m(self, *args, **kwargs)\u001b[0m\n\u001b[1;32m    515\u001b[0m     \u001b[0mself\u001b[0m\u001b[0;34m.\u001b[0m\u001b[0m_self_setattr_tracking\u001b[0m \u001b[0;34m=\u001b[0m \u001b[0;32mFalse\u001b[0m  \u001b[0;31m# pylint: disable=protected-access\u001b[0m\u001b[0;34m\u001b[0m\u001b[0;34m\u001b[0m\u001b[0m\n\u001b[1;32m    516\u001b[0m     \u001b[0;32mtry\u001b[0m\u001b[0;34m:\u001b[0m\u001b[0;34m\u001b[0m\u001b[0;34m\u001b[0m\u001b[0m\n\u001b[0;32m--> 517\u001b[0;31m       \u001b[0mresult\u001b[0m \u001b[0;34m=\u001b[0m \u001b[0mmethod\u001b[0m\u001b[0;34m(\u001b[0m\u001b[0mself\u001b[0m\u001b[0;34m,\u001b[0m \u001b[0;34m*\u001b[0m\u001b[0margs\u001b[0m\u001b[0;34m,\u001b[0m \u001b[0;34m**\u001b[0m\u001b[0mkwargs\u001b[0m\u001b[0;34m)\u001b[0m\u001b[0;34m\u001b[0m\u001b[0;34m\u001b[0m\u001b[0m\n\u001b[0m\u001b[1;32m    518\u001b[0m     \u001b[0;32mfinally\u001b[0m\u001b[0;34m:\u001b[0m\u001b[0;34m\u001b[0m\u001b[0;34m\u001b[0m\u001b[0m\n\u001b[1;32m    519\u001b[0m       \u001b[0mself\u001b[0m\u001b[0;34m.\u001b[0m\u001b[0m_self_setattr_tracking\u001b[0m \u001b[0;34m=\u001b[0m \u001b[0mprevious_value\u001b[0m  \u001b[0;31m# pylint: disable=protected-access\u001b[0m\u001b[0;34m\u001b[0m\u001b[0;34m\u001b[0m\u001b[0m\n",
      "\u001b[0;32m/opt/conda/lib/python3.7/site-packages/tensorflow/python/keras/engine/functional.py\u001b[0m in \u001b[0;36m_init_graph_network\u001b[0;34m(self, inputs, outputs)\u001b[0m\n\u001b[1;32m    155\u001b[0m         \u001b[0mbase_layer_utils\u001b[0m\u001b[0;34m.\u001b[0m\u001b[0mcreate_keras_history\u001b[0m\u001b[0;34m(\u001b[0m\u001b[0mself\u001b[0m\u001b[0;34m.\u001b[0m\u001b[0m_nested_outputs\u001b[0m\u001b[0;34m)\u001b[0m\u001b[0;34m\u001b[0m\u001b[0;34m\u001b[0m\u001b[0m\n\u001b[1;32m    156\u001b[0m \u001b[0;34m\u001b[0m\u001b[0m\n\u001b[0;32m--> 157\u001b[0;31m     \u001b[0mself\u001b[0m\u001b[0;34m.\u001b[0m\u001b[0m_validate_graph_inputs_and_outputs\u001b[0m\u001b[0;34m(\u001b[0m\u001b[0;34m)\u001b[0m\u001b[0;34m\u001b[0m\u001b[0;34m\u001b[0m\u001b[0m\n\u001b[0m\u001b[1;32m    158\u001b[0m \u001b[0;34m\u001b[0m\u001b[0m\n\u001b[1;32m    159\u001b[0m     \u001b[0;31m# A Network does not create weights of its own, thus it is already\u001b[0m\u001b[0;34m\u001b[0m\u001b[0;34m\u001b[0m\u001b[0;34m\u001b[0m\u001b[0m\n",
      "\u001b[0;32m/opt/conda/lib/python3.7/site-packages/tensorflow/python/keras/engine/functional.py\u001b[0m in \u001b[0;36m_validate_graph_inputs_and_outputs\u001b[0;34m(self)\u001b[0m\n\u001b[1;32m    689\u001b[0m                          \u001b[0;34m'must come from `tf.keras.Input`. '\u001b[0m\u001b[0;34m\u001b[0m\u001b[0;34m\u001b[0m\u001b[0m\n\u001b[1;32m    690\u001b[0m                          \u001b[0;34m'Received: '\u001b[0m \u001b[0;34m+\u001b[0m \u001b[0mstr\u001b[0m\u001b[0;34m(\u001b[0m\u001b[0mx\u001b[0m\u001b[0;34m)\u001b[0m \u001b[0;34m+\u001b[0m\u001b[0;34m\u001b[0m\u001b[0;34m\u001b[0m\u001b[0m\n\u001b[0;32m--> 691\u001b[0;31m                          ' (missing previous layer metadata).')\n\u001b[0m\u001b[1;32m    692\u001b[0m       \u001b[0;31m# Check that x is an input tensor.\u001b[0m\u001b[0;34m\u001b[0m\u001b[0;34m\u001b[0m\u001b[0;34m\u001b[0m\u001b[0m\n\u001b[1;32m    693\u001b[0m       \u001b[0;31m# pylint: disable=protected-access\u001b[0m\u001b[0;34m\u001b[0m\u001b[0;34m\u001b[0m\u001b[0;34m\u001b[0m\u001b[0m\n",
      "\u001b[0;31mValueError\u001b[0m: Input tensors to a Functional must come from `tf.keras.Input`. Received: 0 (missing previous layer metadata)."
     ]
    }
   ],
   "source": [
    "visualize(convLayer04)# visualize fourth set of feature maps"
   ]
  }
 ],
 "metadata": {
  "kernelspec": {
   "display_name": "Python 3",
   "language": "python",
   "name": "python3"
  },
  "language_info": {
   "codemirror_mode": {
    "name": "ipython",
    "version": 3
   },
   "file_extension": ".py",
   "mimetype": "text/x-python",
   "name": "python",
   "nbconvert_exporter": "python",
   "pygments_lexer": "ipython3",
   "version": "3.7.9"
  },
  "papermill": {
   "default_parameters": {},
   "duration": 206.143676,
   "end_time": "2021-04-29T04:19:39.966729",
   "environment_variables": {},
   "exception": null,
   "input_path": "__notebook__.ipynb",
   "output_path": "__notebook__.ipynb",
   "parameters": {},
   "start_time": "2021-04-29T04:16:13.823053",
   "version": "2.3.2"
  }
 },
 "nbformat": 4,
 "nbformat_minor": 5
}
